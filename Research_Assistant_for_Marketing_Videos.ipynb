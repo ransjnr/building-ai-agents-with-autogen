{
  "nbformat": 4,
  "nbformat_minor": 0,
  "metadata": {
    "colab": {
      "provenance": [],
      "authorship_tag": "ABX9TyPbTwTKSZ4FF/LclvJUGkGN",
      "include_colab_link": true
    },
    "kernelspec": {
      "name": "python3",
      "display_name": "Python 3"
    },
    "language_info": {
      "name": "python"
    }
  },
  "cells": [
    {
      "cell_type": "markdown",
      "metadata": {
        "id": "view-in-github",
        "colab_type": "text"
      },
      "source": [
        "<a href=\"https://colab.research.google.com/github/ransjnr/building-ai-agents-with-autogen/blob/main/Research_Assistant_for_Marketing_Videos.ipynb\" target=\"_parent\"><img src=\"https://colab.research.google.com/assets/colab-badge.svg\" alt=\"Open In Colab\"/></a>"
      ]
    },
    {
      "cell_type": "markdown",
      "source": [
        "#Research Assistant for Marketing Videos"
      ],
      "metadata": {
        "id": "nx-KpPbJswFE"
      }
    },
    {
      "cell_type": "markdown",
      "source": [
        "###creating agents for the assistant\n"
      ],
      "metadata": {
        "id": "78Yz2w8Ztge9"
      }
    },
    {
      "cell_type": "code",
      "source": [
        "!pip install ag2\n",
        "!pip install openai"
      ],
      "metadata": {
        "colab": {
          "base_uri": "https://localhost:8080/"
        },
        "collapsed": true,
        "id": "PXbaAvG7tzbY",
        "outputId": "3f3ef271-58be-44d3-f758-a5632c3bc84f"
      },
      "execution_count": 1,
      "outputs": [
        {
          "output_type": "stream",
          "name": "stdout",
          "text": [
            "Collecting ag2\n",
            "  Downloading ag2-0.9.0-py3-none-any.whl.metadata (34 kB)\n",
            "Requirement already satisfied: anyio<5.0.0,>=3.0.0 in /usr/local/lib/python3.11/dist-packages (from ag2) (4.9.0)\n",
            "Collecting asyncer==0.0.8 (from ag2)\n",
            "  Downloading asyncer-0.0.8-py3-none-any.whl.metadata (6.7 kB)\n",
            "Collecting diskcache (from ag2)\n",
            "  Downloading diskcache-5.6.3-py3-none-any.whl.metadata (20 kB)\n",
            "Collecting docker (from ag2)\n",
            "  Downloading docker-7.1.0-py3-none-any.whl.metadata (3.8 kB)\n",
            "Requirement already satisfied: httpx<1,>=0.28.1 in /usr/local/lib/python3.11/dist-packages (from ag2) (0.28.1)\n",
            "Requirement already satisfied: packaging in /usr/local/lib/python3.11/dist-packages (from ag2) (24.2)\n",
            "Requirement already satisfied: pydantic<3,>=2.6.1 in /usr/local/lib/python3.11/dist-packages (from ag2) (2.11.4)\n",
            "Collecting python-dotenv (from ag2)\n",
            "  Downloading python_dotenv-1.1.0-py3-none-any.whl.metadata (24 kB)\n",
            "Requirement already satisfied: termcolor in /usr/local/lib/python3.11/dist-packages (from ag2) (3.1.0)\n",
            "Requirement already satisfied: tiktoken in /usr/local/lib/python3.11/dist-packages (from ag2) (0.9.0)\n",
            "Requirement already satisfied: idna>=2.8 in /usr/local/lib/python3.11/dist-packages (from anyio<5.0.0,>=3.0.0->ag2) (3.10)\n",
            "Requirement already satisfied: sniffio>=1.1 in /usr/local/lib/python3.11/dist-packages (from anyio<5.0.0,>=3.0.0->ag2) (1.3.1)\n",
            "Requirement already satisfied: typing_extensions>=4.5 in /usr/local/lib/python3.11/dist-packages (from anyio<5.0.0,>=3.0.0->ag2) (4.13.2)\n",
            "Requirement already satisfied: certifi in /usr/local/lib/python3.11/dist-packages (from httpx<1,>=0.28.1->ag2) (2025.4.26)\n",
            "Requirement already satisfied: httpcore==1.* in /usr/local/lib/python3.11/dist-packages (from httpx<1,>=0.28.1->ag2) (1.0.9)\n",
            "Requirement already satisfied: h11>=0.16 in /usr/local/lib/python3.11/dist-packages (from httpcore==1.*->httpx<1,>=0.28.1->ag2) (0.16.0)\n",
            "Requirement already satisfied: annotated-types>=0.6.0 in /usr/local/lib/python3.11/dist-packages (from pydantic<3,>=2.6.1->ag2) (0.7.0)\n",
            "Requirement already satisfied: pydantic-core==2.33.2 in /usr/local/lib/python3.11/dist-packages (from pydantic<3,>=2.6.1->ag2) (2.33.2)\n",
            "Requirement already satisfied: typing-inspection>=0.4.0 in /usr/local/lib/python3.11/dist-packages (from pydantic<3,>=2.6.1->ag2) (0.4.0)\n",
            "Requirement already satisfied: requests>=2.26.0 in /usr/local/lib/python3.11/dist-packages (from docker->ag2) (2.32.3)\n",
            "Requirement already satisfied: urllib3>=1.26.0 in /usr/local/lib/python3.11/dist-packages (from docker->ag2) (2.4.0)\n",
            "Requirement already satisfied: regex>=2022.1.18 in /usr/local/lib/python3.11/dist-packages (from tiktoken->ag2) (2024.11.6)\n",
            "Requirement already satisfied: charset-normalizer<4,>=2 in /usr/local/lib/python3.11/dist-packages (from requests>=2.26.0->docker->ag2) (3.4.2)\n",
            "Downloading ag2-0.9.0-py3-none-any.whl (781 kB)\n",
            "\u001b[2K   \u001b[90m━━━━━━━━━━━━━━━━━━━━━━━━━━━━━━━━━━━━━━━━\u001b[0m \u001b[32m781.7/781.7 kB\u001b[0m \u001b[31m12.6 MB/s\u001b[0m eta \u001b[36m0:00:00\u001b[0m\n",
            "\u001b[?25hDownloading asyncer-0.0.8-py3-none-any.whl (9.2 kB)\n",
            "Downloading diskcache-5.6.3-py3-none-any.whl (45 kB)\n",
            "\u001b[2K   \u001b[90m━━━━━━━━━━━━━━━━━━━━━━━━━━━━━━━━━━━━━━━━\u001b[0m \u001b[32m45.5/45.5 kB\u001b[0m \u001b[31m2.1 MB/s\u001b[0m eta \u001b[36m0:00:00\u001b[0m\n",
            "\u001b[?25hDownloading docker-7.1.0-py3-none-any.whl (147 kB)\n",
            "\u001b[2K   \u001b[90m━━━━━━━━━━━━━━━━━━━━━━━━━━━━━━━━━━━━━━━━\u001b[0m \u001b[32m147.8/147.8 kB\u001b[0m \u001b[31m10.0 MB/s\u001b[0m eta \u001b[36m0:00:00\u001b[0m\n",
            "\u001b[?25hDownloading python_dotenv-1.1.0-py3-none-any.whl (20 kB)\n",
            "Installing collected packages: python-dotenv, diskcache, docker, asyncer, ag2\n",
            "Successfully installed asyncer-0.0.8 diskcache-5.6.3 docker-7.1.0 ag2-0.9.0 python-dotenv-1.1.0\n",
            "Requirement already satisfied: openai in /usr/local/lib/python3.11/dist-packages (1.78.0)\n",
            "Requirement already satisfied: anyio<5,>=3.5.0 in /usr/local/lib/python3.11/dist-packages (from openai) (4.9.0)\n",
            "Requirement already satisfied: distro<2,>=1.7.0 in /usr/local/lib/python3.11/dist-packages (from openai) (1.9.0)\n",
            "Requirement already satisfied: httpx<1,>=0.23.0 in /usr/local/lib/python3.11/dist-packages (from openai) (0.28.1)\n",
            "Requirement already satisfied: jiter<1,>=0.4.0 in /usr/local/lib/python3.11/dist-packages (from openai) (0.9.0)\n",
            "Requirement already satisfied: pydantic<3,>=1.9.0 in /usr/local/lib/python3.11/dist-packages (from openai) (2.11.4)\n",
            "Requirement already satisfied: sniffio in /usr/local/lib/python3.11/dist-packages (from openai) (1.3.1)\n",
            "Requirement already satisfied: tqdm>4 in /usr/local/lib/python3.11/dist-packages (from openai) (4.67.1)\n",
            "Requirement already satisfied: typing-extensions<5,>=4.11 in /usr/local/lib/python3.11/dist-packages (from openai) (4.13.2)\n",
            "Requirement already satisfied: idna>=2.8 in /usr/local/lib/python3.11/dist-packages (from anyio<5,>=3.5.0->openai) (3.10)\n",
            "Requirement already satisfied: certifi in /usr/local/lib/python3.11/dist-packages (from httpx<1,>=0.23.0->openai) (2025.4.26)\n",
            "Requirement already satisfied: httpcore==1.* in /usr/local/lib/python3.11/dist-packages (from httpx<1,>=0.23.0->openai) (1.0.9)\n",
            "Requirement already satisfied: h11>=0.16 in /usr/local/lib/python3.11/dist-packages (from httpcore==1.*->httpx<1,>=0.23.0->openai) (0.16.0)\n",
            "Requirement already satisfied: annotated-types>=0.6.0 in /usr/local/lib/python3.11/dist-packages (from pydantic<3,>=1.9.0->openai) (0.7.0)\n",
            "Requirement already satisfied: pydantic-core==2.33.2 in /usr/local/lib/python3.11/dist-packages (from pydantic<3,>=1.9.0->openai) (2.33.2)\n",
            "Requirement already satisfied: typing-inspection>=0.4.0 in /usr/local/lib/python3.11/dist-packages (from pydantic<3,>=1.9.0->openai) (0.4.0)\n"
          ]
        }
      ]
    },
    {
      "cell_type": "code",
      "execution_count": 2,
      "metadata": {
        "id": "8fET-zoGpwdw"
      },
      "outputs": [],
      "source": [
        "##import requried libraries\n",
        "import os\n",
        "from autogen import ConversableAgent, UserProxyAgent\n",
        "from openai import AzureOpenAI\n",
        "from google.colab import userdata"
      ]
    },
    {
      "cell_type": "markdown",
      "source": [
        "###setting up credentials"
      ],
      "metadata": {
        "id": "s5jTb4LbxIDU"
      }
    },
    {
      "cell_type": "code",
      "source": [
        "endpoint = userdata.get(\"AZURE_OPENAI_ENDPOINT\")\n",
        "model_name = \"o4-mini\"\n",
        "deployment = \"o4-mini-deployment\"\n",
        "\n",
        "subscription_key = userdata.get(\"AZURE_OPENAI_KEY\")\n",
        "api_version = \"2024-12-01-preview\""
      ],
      "metadata": {
        "id": "-REj2uV8tpdl"
      },
      "execution_count": 3,
      "outputs": []
    },
    {
      "cell_type": "markdown",
      "source": [
        "###llm configuration"
      ],
      "metadata": {
        "id": "COayIGgyxQFV"
      }
    },
    {
      "cell_type": "code",
      "source": [
        "llm_config = {\n",
        "    \"config_list\": [\n",
        "        {\n",
        "            \"model\": deployment,\n",
        "            \"base_url\": endpoint,\n",
        "            \"api_type\": \"azure\",\n",
        "            \"api_key\": subscription_key,\n",
        "            \"api_version\": api_version,\n",
        "        }\n",
        "    ]\n",
        "}"
      ],
      "metadata": {
        "id": "742gXJjqxRf2"
      },
      "execution_count": 4,
      "outputs": []
    },
    {
      "cell_type": "markdown",
      "source": [
        "###Manager Proxy Agent"
      ],
      "metadata": {
        "id": "2jhDJ0vLxhIb"
      }
    },
    {
      "cell_type": "code",
      "source": [
        "manager_proxy_agent = UserProxyAgent(\n",
        "    name=\"Manager\",\n",
        "    system_message=\"You are a marketing campaign manager. Your role is to provide campaign topics and evaluate the ideas and scripts generated by the creative team.\",\n",
        "    human_input_mode=\"NEVER\",\n",
        "    code_execution_config=False,\n",
        "    llm_config=llm_config,\n",
        ")"
      ],
      "metadata": {
        "id": "_RryZPCyxlKH"
      },
      "execution_count": 5,
      "outputs": []
    },
    {
      "cell_type": "markdown",
      "source": [
        "###Idea Generator Agent"
      ],
      "metadata": {
        "id": "Pwgy_LNHyarB"
      }
    },
    {
      "cell_type": "code",
      "source": [
        "idea_generator = ConversableAgent (\n",
        "    name=\"IdeaGenerator\",\n",
        "    system_message='''You are a creative marketing expert. Ypur role is to:\n",
        "    1. Generate innovative campaign ideas based on the given topic\n",
        "    2. Suggest potential storylines and characters for video content\n",
        "    3. Provide a brief outline for each idea\n",
        "    Present 3-5 unique ideas for each request.''',\n",
        "    llm_config=llm_config,\n",
        "    human_input_mode=\"NEVER\",\n",
        ")"
      ],
      "metadata": {
        "id": "JasyrQryyWzJ"
      },
      "execution_count": 6,
      "outputs": []
    },
    {
      "cell_type": "markdown",
      "source": [
        "###Script Writer Agent"
      ],
      "metadata": {
        "id": "0zdvOkAJzFR5"
      }
    },
    {
      "cell_type": "code",
      "source": [
        "script_writer = ConversableAgent(\n",
        "    name=\"ScriptWriter\",\n",
        "    system_message='''You are an expert script writer for marketing videos. Your role is to:\n",
        "    1. Develop full scripts based on the provided campaign ideas\n",
        "    2. Include dialogue, scene descriptions, and camera directions\n",
        "    3. Ensure the script aligns with the campaign objectives and target audience\n",
        "    Aim for scripts of 2-3 minutes each.''',\n",
        "    llm_config=llm_config,\n",
        "    human_input_mode=\"NEVER\",\n",
        "\n",
        ")"
      ],
      "metadata": {
        "id": "DP0T77XjzCJF"
      },
      "execution_count": 7,
      "outputs": []
    },
    {
      "cell_type": "markdown",
      "source": [
        "###Script Reviewer Agent"
      ],
      "metadata": {
        "id": "aEnMqV_Izo5x"
      }
    },
    {
      "cell_type": "code",
      "source": [
        "script_reviewer = ConversableAgent(\n",
        "    name=\"ScriptReviewer\",\n",
        "    system_message='''You are a critical script reviewer. Your role is to:\n",
        "    1. Analyze scripts for effectiveness, engagement, and alignment with campaign goals\n",
        "    2. Provide constructive feedback on dialogue, pacing, and overall structure\n",
        "    3. Suggest improvements or alternatives where neccessary\n",
        "    4. Ensure the script adheres to brand guidelines and target audience preferences\n",
        "    Be thorough and specific in your feedback.''',\n",
        "    llm_config=llm_config,\n",
        "    human_input_mode=\"NEVER\",\n",
        ")"
      ],
      "metadata": {
        "id": "UemOfpoZzoB2"
      },
      "execution_count": 8,
      "outputs": []
    },
    {
      "cell_type": "markdown",
      "source": [
        "### Creating tasks for the agent"
      ],
      "metadata": {
        "id": "z5ApfYaq0jy2"
      }
    },
    {
      "cell_type": "code",
      "source": [
        "chats = [\n",
        "    {\n",
        "        \"sender\": manager_proxy_agent,\n",
        "        \"recipient\": idea_generator,\n",
        "        \"message\":\n",
        "            \"Hello, I need creative ideas for our new marketing campaign. \"\n",
        "            \"Our product is eco-friendly home cleaning products. \"\n",
        "            \"Could you generate 3-5 innovative campaign ideas, including potential \"\n",
        "            \"storylines and characters, and a brief outline for video content? \",\n",
        "        \"summary_method\": \"reflection_with_llm\",\n",
        "        \"summary_args\":{\n",
        "            \"summary_prompt\": \"Summarize the generated ideas \"\n",
        "                            \"into a JSON object: \"\n",
        "                            \"{'idea1': {'concept': '', 'storyline': '', 'characters': ''}, \"\n",
        "                            \"'idea2': {...}, 'idea3': {...}}\",\n",
        "\n",
        "        },\n",
        "        \"max_turns\": 2,\n",
        "        \"clear_history\":True,\n",
        "    },\n",
        "    {\n",
        "        \"sender\": manager_proxy_agent,\n",
        "        \"recipient\": script_writer,\n",
        "        \"message\":\n",
        "            \"Great ideas! Let's develop a script for the following concept: \"\n",
        "            \"[INSERT SELECTED IDEA HERE]. \"\n",
        "            \"Please write a full script including dialogue, scene descriptions, \"\n",
        "            \"and camera directions. Aim for a 2-3 minute video. \",\n",
        "        \"summary_method\": \"reflection_with_llm\",\n",
        "        \"summary_args\": {\n",
        "            \"summary_prompt\": \"Provide a brief summary of the script \"\n",
        "                            \"as a JSON object: \"\n",
        "                            \"{'title': '', 'main_characters': [], 'key_scenes': [], \"\n",
        "                            \"'estimated_duration': ''}\",\n",
        "        },\n",
        "        \"max_turns\": 2,\n",
        "        \"clear_history\":True,\n",
        "\n",
        "    },\n",
        "    {\n",
        "        \"sender\": manager_proxy_agent,\n",
        "        \"recipient\": script_reviewer,\n",
        "        \"message\": \"Please review the following script: [INSERT SCRIPT HERE]. \"\n",
        "                   \"Analyze it for effectiveness, engagement, and alignment with \"\n",
        "                   \"campaign goals. Provide constructive feedback \"\n",
        "                   \"feedback and suggest improvements. \",\n",
        "        \"max_turns\": 1,\n",
        "        \"summary_method\": \"reflection_with_llm\",\n",
        "        \"summary_args\": {\n",
        "            \"summary_prompt\": \"Sumarize the review points \"\n",
        "                              \"as a JSON object: \"\n",
        "                              \"{'strengths': [], 'weaknesses': [], 'suggestions': []}\",\n",
        "        },\n",
        "    },\n",
        "    {\n",
        "        \"sender\": manager_proxy_agent,\n",
        "        \"recipient\": manager_proxy_agent,\n",
        "        \"message\": \"Based on the script and review, decide if the script is ready \"\n",
        "                   \"for production or need revisions. If revisions are needed, \"\n",
        "                   \"specify the key areas to address.\",\n",
        "        \"max_turns\": 1,\n",
        "        \"summary_method\": \"reflection_with_llm\",\n",
        "        \"summary_args\": {\n",
        "            \"summary_prompt\": \"Summarize the decision \"\n",
        "                            \"as a JSON object: \"\n",
        "                            \"{'decision': 'ready'/'needs_revision',\"\n",
        "                            \"'key_revision_areas': []}\"\n",
        "        },\n",
        "\n",
        "    }\n",
        "]"
      ],
      "metadata": {
        "id": "jhaa0CAR0pWF"
      },
      "execution_count": 9,
      "outputs": []
    },
    {
      "cell_type": "markdown",
      "source": [
        "###Start researching"
      ],
      "metadata": {
        "id": "tE-TmwYw5zJj"
      }
    },
    {
      "cell_type": "code",
      "source": [
        "from autogen import initiate_chats\n",
        "chat_results = initiate_chats(chats)"
      ],
      "metadata": {
        "colab": {
          "base_uri": "https://localhost:8080/"
        },
        "collapsed": true,
        "id": "a2cgW9rc51er",
        "outputId": "5f1253a8-dffc-4908-887e-72805d922d07"
      },
      "execution_count": 10,
      "outputs": [
        {
          "output_type": "stream",
          "name": "stdout",
          "text": [
            "\n",
            "********************************************************************************\n",
            "Starting a new chat....\n",
            "\n",
            "********************************************************************************\n",
            "Manager (to IdeaGenerator):\n",
            "\n",
            "Hello, I need creative ideas for our new marketing campaign. Our product is eco-friendly home cleaning products. Could you generate 3-5 innovative campaign ideas, including potential storylines and characters, and a brief outline for video content? \n",
            "\n",
            "--------------------------------------------------------------------------------\n",
            "[autogen.oai.client: 05-13 17:05:34] {696} WARNING - Model o4-mini is not found. The cost will be 0. In your config_list, add field {\"price\" : [prompt_price_per_1k, completion_token_price_per_1k]} for customized pricing.\n"
          ]
        },
        {
          "output_type": "stream",
          "name": "stderr",
          "text": [
            "WARNING:autogen.oai.client:Model o4-mini is not found. The cost will be 0. In your config_list, add field {\"price\" : [prompt_price_per_1k, completion_token_price_per_1k]} for customized pricing.\n"
          ]
        },
        {
          "output_type": "stream",
          "name": "stdout",
          "text": [
            "IdeaGenerator (to Manager):\n",
            "\n",
            "Here are five distinct campaign concepts for your eco-friendly home cleaning line. Each includes a working title, key characters, core storyline and a 30–60-second video outline.\n",
            "\n",
            "1. “The Eco-Squad to the Rescue”  \n",
            "   • Premise: A family of green-powered superheroes tackles dirt and chemical waste, restoring homes – and planet health – in every episode.  \n",
            "   • Characters:  \n",
            "     – Captain Clean (mom figure with “spray-shield” powers)  \n",
            "     – Lady Lather (dad-figure who conjures suds from thin air)  \n",
            "     – Sidekicks Tommy & Emma (kids who scout trouble spots with magnifying-glass drones)  \n",
            "   • Video Outline (60s):  \n",
            "     1. Opening: Alert siren, house overrun by toxic “dirt monsters.”  \n",
            "     2. Call-out: Eco-Squad assembles (costumes glow green).  \n",
            "     3. Action: Each family member uses your product to defeat a different “monster” (grime, grease, mold).  \n",
            "     4. Finale: Home sparkles, backyard blooms, family high-five under a “100% Biodegradable” badge.  \n",
            "     5. Tagline: “With Eco-Squad, clean is green!”  \n",
            "\n",
            "2. “Green Makeover Challenge”  \n",
            "   • Premise: A fast-paced, social-media-style home transformation series. Two families go head-to-head converting from conventional to your eco line.  \n",
            "   • Characters:  \n",
            "     – Host (energetic influencer)  \n",
            "     – Family A & Family B (diverse backgrounds, playful rivalry)  \n",
            "   • Video Outline (45s):  \n",
            "     1. Split-screen intro: “Traditional vs. Eco” cleaning closets.  \n",
            "     2. 3-round challenge: Kitchen, bathroom, living room. Each round: time-lapse of green product in action (e.g. citrus degreaser dissolving grime in seconds).  \n",
            "     3. Judging: Host measures air quality, residue, scent, family reactions.  \n",
            "     4. Winner reveal: Eco family prevails, but both get a “starter kit.”  \n",
            "     5. Call-to-action: “Take the #GreenMakeoverChallenge!”  \n",
            "\n",
            "3. “Time-Traveling Cleaners”  \n",
            "   • Premise: A quirky scientist and trusty sidekick test your eco products across history—rid ancient messes without leaving a carbon footprint.  \n",
            "   • Characters:  \n",
            "     – Dr. Vera Verde (genius inventor in a lab coat)  \n",
            "     – Biff (eager, bumbling assistant with a portable time-machine backpack)  \n",
            "   • Video Outline (60s):  \n",
            "     1. Lab scene: Dr. Verde unveils new “Eco-Formula.”  \n",
            "     2. Zap! They appear in Ancient Rome’s kitchens (smoky, greasy).  \n",
            "     3. Demonstration: A small spritz of eco-degreaser dissolves oil, gladiator cheers.  \n",
            "     4. Next stop: Victorian parlor full of soot—eco-dust spray brings back the wallpaper’s colors.  \n",
            "     5. Tag: “No matter the era, only one formula stands the test of time.”  \n",
            "\n",
            "4. “Nature’s Little Helpers” (Animated Series)  \n",
            "   • Premise: Personified natural ingredients band together to defeat dirt-bugs in a colorful, comic-book style.  \n",
            "   • Characters:  \n",
            "     – Lemon Lulu (zesty sprayer with citrus-blast attacks)  \n",
            "     – Baking-Bob (powdery defender who neutralizes odors)  \n",
            "     – Bamboo Bree (fiber-force scrubber with rapid-regrowth shields)  \n",
            "   • Video Outline (30s):  \n",
            "     1. Dirt-bugs invade a kitchen sink.  \n",
            "     2. Quick cuts: each hero uses its special move (Lime Lightning, Soda Shield, Bamboo Brush).  \n",
            "     3. Bugs vanish; sink shines.  \n",
            "     4. Logo appears: “Powered by Mother Nature.”  \n",
            "\n",
            "5. “The Microbe Detective”  \n",
            "   • Premise: A campy film-noir detective hunts down elusive germ-gangsters lurking in household corners, using eco-friendly sprays as CSI tools.  \n",
            "   • Characters:  \n",
            "     – Detective Green (tweed-jacket sleuth with a magnifier baton)  \n",
            "     – Watson (talking pet dog who sniffs out hidden bacteria)  \n",
            "   • Video Outline (45s):  \n",
            "     1. Monologue (voice-over): “Another grimy night in Dustburg…”  \n",
            "     2. Watson sniffs at a stained countertop—“Aha!”  \n",
            "     3. Detective Green applies your anti-germ formula; UV light reveals no trace of bacteria.  \n",
            "     4. Final shot: Green tips his hat to the camera.  \n",
            "     5. Tagline: “Clean gets solved with [Your Brand].”  \n",
            "\n",
            "Each concept can be extended into a series of short episodes, user-generated spin-offs or influencer collaborations—driving both broad awareness and tangible engagement with your eco-friendly line.\n",
            "\n",
            "--------------------------------------------------------------------------------\n",
            "[autogen.oai.client: 05-13 17:05:53] {696} WARNING - Model o4-mini is not found. The cost will be 0. In your config_list, add field {\"price\" : [prompt_price_per_1k, completion_token_price_per_1k]} for customized pricing.\n"
          ]
        },
        {
          "output_type": "stream",
          "name": "stderr",
          "text": [
            "WARNING:autogen.oai.client:Model o4-mini is not found. The cost will be 0. In your config_list, add field {\"price\" : [prompt_price_per_1k, completion_token_price_per_1k]} for customized pricing.\n"
          ]
        },
        {
          "output_type": "stream",
          "name": "stdout",
          "text": [
            "Manager (to IdeaGenerator):\n",
            "\n",
            "Here’s my evaluation of each concept—strengths, potential gaps, and tweaks to maximize impact—followed by a recommendation on next steps.\n",
            "\n",
            "1. “The Eco-Squad to the Rescue”  \n",
            "Strengths  \n",
            " • Family-friendly, hero imagery instantly grabs attention.  \n",
            " • Visually rich (costumes, “dirt monsters”) lends itself well to TV spots and TikTok skits.  \n",
            " • Clear brand positioning: cleaning = saving the planet.  \n",
            "Opportunities  \n",
            " • Tone: avoid feeling too “campy” or comic-book cliché—keep the humor light and relatable.  \n",
            " • Product focus: weave in a quick “how it works” moment (e.g. a microscopic before/after).  \n",
            " • Extension: invite real families to share their “Eco-Squad wins” via UGC.  \n",
            "\n",
            "2. “Green Makeover Challenge”  \n",
            "Strengths  \n",
            " • Highly social-native—perfect for YouTube, Reels and challenge culture.  \n",
            " • Competitive format delivers built-in suspense and shareability.  \n",
            " • Demonstrates performance (time-lapse) and sustainability metrics (air-quality, residue).  \n",
            "Opportunities  \n",
            " • Differentiate rounds with branded obstacles (e.g. “Plastic-free zone” or “Zero-waste hack”).  \n",
            " • Make judging criteria simple and visual (e.g. color-coded “green meter”).  \n",
            " • Partner with micro-influencers in the eco-community for organic reach.  \n",
            "\n",
            "3. “Time-Traveling Cleaners”  \n",
            "Strengths  \n",
            " • Unique premise—educates on ecological impact across eras.  \n",
            " • Strong characters that can spin off into animation or AR filters.  \n",
            " • History buffs and STEM families are a natural niche audience.  \n",
            "Opportunities  \n",
            " • Tighten transitions—avoid the feel of a travelogue; keep it fast-paced.  \n",
            " • Emphasize modern problem solving (“We solved it then—imagine today’s green science!”).  \n",
            " • Consider branded “time-capsule” packaging or limited-edition retro labels.  \n",
            "\n",
            "4. “Nature’s Little Helpers” (Animated Series)  \n",
            "Strengths  \n",
            " • Cute, meme-ready characters that personify ingredients.  \n",
            " • Easy to adapt into GIFs, stickers, short-form ads.  \n",
            " • Appeals to kids and parents, reinforcing natural provenance.  \n",
            "Opportunities  \n",
            " • Develop a short origin-story “pilot” that introduces the ingredient-heroes.  \n",
            " • Create downloadables (coloring sheets, digital wallpapers) to drive site traffic.  \n",
            " • Make sure each ingredient’s eco-benefit is crystal clear in the dialogue.  \n",
            "\n",
            "5. “The Microbe Detective”  \n",
            "Strengths  \n",
            " • Film-noir style is unexpected and memorable in the cleaning category.  \n",
            " • Detective + pet sidekick provides humor, voice-over opportunities, and brand personality.  \n",
            " • Underlines germ-killing credentials without resorting to harsh chemistry imagery.  \n",
            "Opportunities  \n",
            " • Keep scenes under 45 sec so they’re shareable on Stories/Snapchat.  \n",
            " • Introduce a cliffhanger (“Next case: the toilet bowl bandit…”) to drive follow-ups.  \n",
            " • Use UV-camera shots as a consistent reveal device—makes “invisible” germs visible.  \n",
            "\n",
            "Overall Recommendation  \n",
            " • Prioritize “Green Makeover Challenge” for short-form social and “The Microbe Detective” for mid-length digital pre-rolls. Both play to current content-consumption habits and clearly showcase product benefits.  \n",
            " • Simultaneously develop “Nature’s Little Helpers” assets as supporting native ads and educational pieces aimed at parents.  \n",
            " • Next Steps:  \n",
            "   1. Script refinement workshops for your top two concepts—focus on pacing, brand hooks, and clear CTAs.  \n",
            "   2. Talent scouting (micro-influencers + family casting) and selecting 1–2 pilot markets for A/B testing.  \n",
            "   3. Storyboard and animatic for “Nature’s Little Helpers” to validate tone and character design before full animation.  \n",
            "\n",
            "Let me know which two concepts you’d like to green-light first, and I’ll work up detailed briefs (budgets, timelines, channel plans) for each.\n",
            "\n",
            "--------------------------------------------------------------------------------\n",
            "[autogen.oai.client: 05-13 17:06:30] {696} WARNING - Model o4-mini is not found. The cost will be 0. In your config_list, add field {\"price\" : [prompt_price_per_1k, completion_token_price_per_1k]} for customized pricing.\n"
          ]
        },
        {
          "output_type": "stream",
          "name": "stderr",
          "text": [
            "WARNING:autogen.oai.client:Model o4-mini is not found. The cost will be 0. In your config_list, add field {\"price\" : [prompt_price_per_1k, completion_token_price_per_1k]} for customized pricing.\n"
          ]
        },
        {
          "output_type": "stream",
          "name": "stdout",
          "text": [
            "IdeaGenerator (to Manager):\n",
            "\n",
            "Great—let’s green-light the two priority concepts and set “Nature’s Little Helpers” in development as a supportive asset suite.\n",
            "\n",
            "1. Green Makeover Challenge (Social-First Series)  \n",
            "  • Objective: Drive UGC participation and product trials by positioning your line as the go-to eco swap.  \n",
            "  • Key Deliverables:  \n",
            "    – 6× 45-sec challenge videos (Kitchen, Bath, Living Room rounds)  \n",
            "    – 30× 15-sec cutdowns for Reels/Stories/TikTok  \n",
            "    – Branded “Green Meter” overlays + on-screen CTAs  \n",
            "    – Influencer micro-kits (10 eco-creators each)  \n",
            "  • Timeline:  \n",
            "    Weeks 1–2: Script & obstacle design workshop  \n",
            "    Weeks 3–4: Talent scouting + kitchen set build  \n",
            "    Week 5: Shoot & in-house edit  \n",
            "    Week 6: Social launch & seeding  \n",
            "  • Budget Range (est.): $60–80K per pilot market—including talent fees, production, post and UGC amplification.  \n",
            "  • Channels: Instagram Reels, TikTok, YouTube Shorts, Facebook Stories\n",
            "\n",
            "2. The Microbe Detective (Digital Pre-Roll Campaign)  \n",
            "  • Objective: Showcase germ-killing power in a surprising, brand-personality–driven format.  \n",
            "  • Key Deliverables:  \n",
            "    – 4× 30-45-sec noir “cases” (Countertop, Sink, Toilet, Remote Control)  \n",
            "    – 8× 15-sec cliffhanger teasers  \n",
            "    – UV-reveal B-roll package for paid media  \n",
            "    – Watson “sniff-test” sound effect library  \n",
            "  • Timeline:  \n",
            "    Week 1: Finalize script beats & noir visual style guide  \n",
            "    Week 2: Cast detective + pet, secure UV-camera gear  \n",
            "    Weeks 3–4: Shoot & VFX (UV reveals)  \n",
            "    Week 5: Edit, sound mix, QC  \n",
            "    Week 6: Launch across YouTube, programmatic pre-roll, Snapchat Discover  \n",
            "  • Budget Range (est.): $75–90K total for all assets + media-optimization buffer.  \n",
            "\n",
            "Support Asset: Nature’s Little Helpers  \n",
            "  • Develop a 15-sec “Meet the Team” pilot and character GIFs/stickers  \n",
            "  • Timeline: Weeks 1–3 character design & animatic; Weeks 4–6 final animation  \n",
            "  • Use as retargeting ads, website educational content, downloadable coloring sheets\n",
            "\n",
            "Next Steps  \n",
            "  1. Approve these two briefs and budget envelopes.  \n",
            "  2. Book script workshops with our creative & sustainability leads.  \n",
            "  3. Begin talent outreach and production scheduling.  \n",
            "\n",
            "Once approved, I’ll circulate full creative decks, production calendars and detailed channel plans. Let me know if you’d like any tweaks before we lock in kick-off!\n",
            "\n",
            "--------------------------------------------------------------------------------\n",
            "\n",
            ">>>>>>>> TERMINATING RUN (66fcf20d-a4c8-4d7f-a59e-05e8d46c51b8): Maximum turns (2) reached\n",
            "[autogen.oai.client: 05-13 17:06:40] {696} WARNING - Model o4-mini is not found. The cost will be 0. In your config_list, add field {\"price\" : [prompt_price_per_1k, completion_token_price_per_1k]} for customized pricing.\n"
          ]
        },
        {
          "output_type": "stream",
          "name": "stderr",
          "text": [
            "WARNING:autogen.oai.client:Model o4-mini is not found. The cost will be 0. In your config_list, add field {\"price\" : [prompt_price_per_1k, completion_token_price_per_1k]} for customized pricing.\n"
          ]
        },
        {
          "output_type": "stream",
          "name": "stdout",
          "text": [
            "\n",
            "********************************************************************************\n",
            "Starting a new chat....\n",
            "\n",
            "********************************************************************************\n",
            "Manager (to ScriptWriter):\n",
            "\n",
            "Great ideas! Let's develop a script for the following concept: [INSERT SELECTED IDEA HERE]. Please write a full script including dialogue, scene descriptions, and camera directions. Aim for a 2-3 minute video. \n",
            "Context: \n",
            "{\n",
            "  \"idea1\": {\n",
            "    \"concept\": \"Green Makeover Challenge\",\n",
            "    \"storyline\": \"Two families go head-to-head converting from conventional to eco-friendly cleaning in three timed rounds (kitchen, bathroom, living room), demonstrating product performance and sustainability metrics.\",\n",
            "    \"characters\": \"Host (energetic influencer), Family A, Family B\"\n",
            "  },\n",
            "  \"idea2\": {\n",
            "    \"concept\": \"The Microbe Detective\",\n",
            "    \"storyline\": \"A film-noir style detective and his dog sidekick hunt down and expose hidden germ-gangsters in household hotspots, using eco-friendly spray and UV reveals to solve each case.\",\n",
            "    \"characters\": \"Detective Green (tweed-jacket sleuth), Watson (talking pet dog)\"\n",
            "  },\n",
            "  \"idea3\": {\n",
            "    \"concept\": \"Nature’s Little Helpers\",\n",
            "    \"storyline\": \"Personified natural ingredients team up to defeat animated dirt-bugs in quick, colorful battles, showcasing each ingredient’s eco-benefit.\",\n",
            "    \"characters\": \"Lemon Lulu (citrus sprayer), Baking-Bob (odor-neutralizing powder), Bamboo Bree (fiber scrubber)\"\n",
            "  }\n",
            "}\n",
            "\n",
            "--------------------------------------------------------------------------------\n",
            "[autogen.oai.client: 05-13 17:06:48] {696} WARNING - Model o4-mini is not found. The cost will be 0. In your config_list, add field {\"price\" : [prompt_price_per_1k, completion_token_price_per_1k]} for customized pricing.\n"
          ]
        },
        {
          "output_type": "stream",
          "name": "stderr",
          "text": [
            "WARNING:autogen.oai.client:Model o4-mini is not found. The cost will be 0. In your config_list, add field {\"price\" : [prompt_price_per_1k, completion_token_price_per_1k]} for customized pricing.\n"
          ]
        },
        {
          "output_type": "stream",
          "name": "stdout",
          "text": [
            "ScriptWriter (to Manager):\n",
            "\n",
            "Sure thing! Which of the three concepts would you like me to develop into a full 2–3 minute script?\n",
            "\n",
            "1. Green Makeover Challenge (idea1)  \n",
            "2. The Microbe Detective (idea2)  \n",
            "3. Nature’s Little Helpers (idea3)\n",
            "\n",
            "Just let me know your pick, and I’ll draft the complete script with scenes, dialogue, and camera directions.\n",
            "\n",
            "--------------------------------------------------------------------------------\n",
            "[autogen.oai.client: 05-13 17:06:54] {696} WARNING - Model o4-mini is not found. The cost will be 0. In your config_list, add field {\"price\" : [prompt_price_per_1k, completion_token_price_per_1k]} for customized pricing.\n"
          ]
        },
        {
          "output_type": "stream",
          "name": "stderr",
          "text": [
            "WARNING:autogen.oai.client:Model o4-mini is not found. The cost will be 0. In your config_list, add field {\"price\" : [prompt_price_per_1k, completion_token_price_per_1k]} for customized pricing.\n"
          ]
        },
        {
          "output_type": "stream",
          "name": "stdout",
          "text": [
            "Manager (to ScriptWriter):\n",
            "\n",
            "Let’s go with idea #2, “The Microbe Detective.”  \n",
            "\n",
            "Please draft a 2–3 minute spot with:  \n",
            "• Scene-by-scene descriptions (settings, time of day, atmosphere)  \n",
            "• Camera directions (e.g., wide, close-up, whip pan, match cut)  \n",
            "• All dialogue (Detective Green, Watson, any VOs)  \n",
            "• Sound design cues (footsteps, UV lamp buzz, hero spray sound, etc.)  \n",
            "\n",
            "Make it punchy and playful in true film-noir detective style, but with clear product calls-out and eco-credentials.\n",
            "\n",
            "--------------------------------------------------------------------------------\n",
            "[autogen.oai.client: 05-13 17:07:37] {696} WARNING - Model o4-mini is not found. The cost will be 0. In your config_list, add field {\"price\" : [prompt_price_per_1k, completion_token_price_per_1k]} for customized pricing.\n"
          ]
        },
        {
          "output_type": "stream",
          "name": "stderr",
          "text": [
            "WARNING:autogen.oai.client:Model o4-mini is not found. The cost will be 0. In your config_list, add field {\"price\" : [prompt_price_per_1k, completion_token_price_per_1k]} for customized pricing.\n"
          ]
        },
        {
          "output_type": "stream",
          "name": "stdout",
          "text": [
            "ScriptWriter (to Manager):\n",
            "\n",
            "Title: “The Microbe Detective”  \n",
            "Length: ~2:30  \n",
            "Tone: Playful film-noir with eco-credentials  \n",
            "\n",
            "––––––––––––––––––––––––––––––––––––––––  \n",
            "SCENE 1: “THE KITCHEN CRIME SCENE”  \n",
            "INT. KITCHEN – NIGHT  \n",
            "Atmosphere: Dim lamplight, heavy shadows, noir jazz under-score.  \n",
            "\n",
            "Sound design: Slow footsteps on tile. Soft hum of refrigerator.  \n",
            "\n",
            "CAMERA:  \n",
            "• WIDE SHOT of cluttered countertop.  \n",
            "• CUT TO close-up of Detective Green’s polished derby and trench coat.  \n",
            "\n",
            "DETECTIVE GREEN (V.O., gravelly):  \n",
            "In this town, every countertop’s got a secret. And I’m the guy who cracks the case.  \n",
            "\n",
            "• WHIP-PAN to DETECTIVE GREEN, mid-30s, tweed jacket, holding a UV lamp.  \n",
            "• CLOSE-UP: UV LAMP BUZZ activates, revealing neon “germ-gang” graffiti across the cutting board.  \n",
            "\n",
            "DETECTIVE GREEN (whispers):  \n",
            "Case #001: The Midnight Meat Muck.  \n",
            "\n",
            "Enter WATSON (a sleek terrier in a tiny trench coat).  \n",
            "\n",
            "WATSON (dry, British accent):  \n",
            "Sir, those microbes are as slippery as a greased pickpocket.  \n",
            "\n",
            "DETECTIVE GREEN:  \n",
            "Time to call in reinforcements.  \n",
            "\n",
            "Sound: canister “hiss”—the hero spray.  \n",
            "\n",
            "• MATCH CUT to GREEN’s hand grabbing ECO-CLEAN Detective Spray.  \n",
            "\n",
            "DETECTIVE GREEN (spraying):  \n",
            "Plant-powered botanical blast—breaks down 99.9% of germs, no nasty chemicals.  \n",
            "\n",
            "Sound: satisfying SPRAY SIZZLE.  \n",
            "\n",
            "CUT TO UV lamp again: germs vanish.  \n",
            "\n",
            "WATSON (sniffs victory):  \n",
            "Case closed, Chef’s Special.  \n",
            "\n",
            "––––––––––––––––––––––––––––––––––––––––  \n",
            "SCENE 2: “THE BATHROOM BOGEYMAN”  \n",
            "INT. BATHROOM – NIGHT  \n",
            "Atmosphere: Flickering overhead bulb, echoing drip.  \n",
            "\n",
            "Sound design: dripping faucet, echo, distant thunder.  \n",
            "\n",
            "CAMERA:  \n",
            "• EXTREME WIDE – dirty bathtub rim, green slime.  \n",
            "• TRACK-IN as GREEN shuffles in.  \n",
            "\n",
            "DETECTIVE GREEN (V.O.):  \n",
            "Next up: the Porcelain Phantom—a fiend that haunts every grout line.  \n",
            "\n",
            "• CUT TO LOW ANGLE of Watson jumping onto vanity, tail wag silent.  \n",
            "\n",
            "WATSON:  \n",
            "I detect high odor potential. Shall we vaporize, sir?  \n",
            "\n",
            "• QUICK CUT: GREEN wielding spray + scrub pad.  \n",
            "\n",
            "DETECTIVE GREEN (to camera):  \n",
            "Biodegradable formula meets powerful scrubbing action—no micro-plastics, 100% ocean-safe.  \n",
            "\n",
            "Sound: SCRUB SCRUB, then VOOM as slime dissolves.  \n",
            "\n",
            "• CLOSE-UP UV lamp—glow reveals a sparkling white tub.  \n",
            "\n",
            "WATSON (cheery):  \n",
            "Goodbye, Phantom. Hello, fresh!  \n",
            "\n",
            "––––––––––––––––––––––––––––––––––––––––  \n",
            "SCENE 3: “THE LIVING ROOM LOCKDOWN”  \n",
            "INT. LIVING ROOM – NIGHT  \n",
            "Atmosphere: Moody lamp, scattered popcorn, couch cushions askew.  \n",
            "\n",
            "Sound design: faint pop of popcorn, creaking floorboards.  \n",
            "\n",
            "CAMERA:  \n",
            "• OVER-THE-SHOULDER of GREEN scanning couch with UV lamp: microbial “tag” on armrest.  \n",
            "• QUICK ZOOM on Watson’s nose twitching.  \n",
            "\n",
            "WATSON (sniff):  \n",
            "Sofa sneeze central, sir.  \n",
            "\n",
            "• WHIP-PAN to GREEN pulling out ECO-CLEAN spray.  \n",
            "\n",
            "DETECTIVE GREEN (smirking):  \n",
            "This calls for a double-tap: spray… then wipe.  \n",
            "\n",
            "Sound: twin SPRAY SIZZLES, followed by WIPE SWOOSH.  \n",
            "\n",
            "• MATCH CUT to UV lamp: microbe graffiti fades to clean fabric.  \n",
            "\n",
            "––––––––––––––––––––––––––––––––––––––––  \n",
            "SCENE 4: “ECO-CREDENTIALS MONTAGE”  \n",
            "INT. VARIOUS SPOTS – QUICK CUTS  \n",
            "Music: upbeat, heroic jazz.  \n",
            "\n",
            "Graphics & VO (Detective Green):  \n",
            "– “PLANT-BASED INGREDIENTS: lemon oil, bamboo extract.”  \n",
            "– “BIODEGRADABLE FORMULA: safe for kids, pets, planet.”  \n",
            "– “CRUELTY-FREE & VEGAN: we don’t test on animals.”  \n",
            "– “RECYCLABLE BOTTLE: closed-loop packaging.”  \n",
            "\n",
            "Sound: each bullet accompanied by a “ping” and brief hero harp.  \n",
            "\n",
            "WATSON (VO, excited):  \n",
            "The toughest cases need the greenest team!  \n",
            "\n",
            "––––––––––––––––––––––––––––––––––––––––  \n",
            "SCENE 5: “CASE CLOSED”  \n",
            "INT. KITCHEN – DAWN  \n",
            "Atmosphere: sunrise light through window.  \n",
            "\n",
            "Sound design: birds chirping, gentle kitchen ambiance.  \n",
            "\n",
            "CAMERA:  \n",
            "• TWO-SHOT of Detective Green & Watson, arms crossed (paw crossed), triumphant.  \n",
            "• SLOW PUSH-IN on smiling faces.  \n",
            "\n",
            "DETECTIVE GREEN (eyebrow raise):  \n",
            "Another night, another dirty deed undone. All thanks to Eco-Clean Detective Series.  \n",
            "\n",
            "WATSON (wagging tail):  \n",
            "Stay vigilant, stay green!  \n",
            "\n",
            "SUPER (on screen with sparkling product shot):  \n",
            "“Eco-Clean Detective Series – Solve the Mystery of Clean”  \n",
            "#BeYourOwnDetective  \n",
            "\n",
            "Music: triumphant jazz flourish.  \n",
            "\n",
            "FADE OUT.\n",
            "\n",
            "--------------------------------------------------------------------------------\n",
            "\n",
            ">>>>>>>> TERMINATING RUN (b1747892-ab54-4f03-bddb-2b1a51810ba1): Maximum turns (2) reached\n",
            "[autogen.oai.client: 05-13 17:07:51] {696} WARNING - Model o4-mini is not found. The cost will be 0. In your config_list, add field {\"price\" : [prompt_price_per_1k, completion_token_price_per_1k]} for customized pricing.\n"
          ]
        },
        {
          "output_type": "stream",
          "name": "stderr",
          "text": [
            "WARNING:autogen.oai.client:Model o4-mini is not found. The cost will be 0. In your config_list, add field {\"price\" : [prompt_price_per_1k, completion_token_price_per_1k]} for customized pricing.\n"
          ]
        },
        {
          "output_type": "stream",
          "name": "stdout",
          "text": [
            "\n",
            "********************************************************************************\n",
            "Starting a new chat....\n",
            "\n",
            "********************************************************************************\n",
            "Manager (to ScriptReviewer):\n",
            "\n",
            "Please review the following script: [INSERT SCRIPT HERE]. Analyze it for effectiveness, engagement, and alignment with campaign goals. Provide constructive feedback feedback and suggest improvements. \n",
            "Context: \n",
            "{\n",
            "  \"idea1\": {\n",
            "    \"concept\": \"Green Makeover Challenge\",\n",
            "    \"storyline\": \"Two families go head-to-head converting from conventional to eco-friendly cleaning in three timed rounds (kitchen, bathroom, living room), demonstrating product performance and sustainability metrics.\",\n",
            "    \"characters\": \"Host (energetic influencer), Family A, Family B\"\n",
            "  },\n",
            "  \"idea2\": {\n",
            "    \"concept\": \"The Microbe Detective\",\n",
            "    \"storyline\": \"A film-noir style detective and his dog sidekick hunt down and expose hidden germ-gangsters in household hotspots, using eco-friendly spray and UV reveals to solve each case.\",\n",
            "    \"characters\": \"Detective Green (tweed-jacket sleuth), Watson (talking pet dog)\"\n",
            "  },\n",
            "  \"idea3\": {\n",
            "    \"concept\": \"Nature’s Little Helpers\",\n",
            "    \"storyline\": \"Personified natural ingredients team up to defeat animated dirt-bugs in quick, colorful battles, showcasing each ingredient’s eco-benefit.\",\n",
            "    \"characters\": \"Lemon Lulu (citrus sprayer), Baking-Bob (odor-neutralizing powder), Bamboo Bree (fiber scrubber)\"\n",
            "  }\n",
            "}\n",
            "{\n",
            "  \"title\": \"The Microbe Detective\",\n",
            "  \"main_characters\": [\n",
            "    \"Detective Green\",\n",
            "    \"Watson\"\n",
            "  ],\n",
            "  \"key_scenes\": [\n",
            "    \"Kitchen Crime Scene\",\n",
            "    \"Bathroom Bogeyman\",\n",
            "    \"Living Room Lockdown\",\n",
            "    \"Eco-credentials Montage\",\n",
            "    \"Case Closed\"\n",
            "  ],\n",
            "  \"estimated_duration\": \"2:30\"\n",
            "}\n",
            "\n",
            "--------------------------------------------------------------------------------\n",
            "[autogen.oai.client: 05-13 17:08:21] {696} WARNING - Model o4-mini is not found. The cost will be 0. In your config_list, add field {\"price\" : [prompt_price_per_1k, completion_token_price_per_1k]} for customized pricing.\n"
          ]
        },
        {
          "output_type": "stream",
          "name": "stderr",
          "text": [
            "WARNING:autogen.oai.client:Model o4-mini is not found. The cost will be 0. In your config_list, add field {\"price\" : [prompt_price_per_1k, completion_token_price_per_1k]} for customized pricing.\n"
          ]
        },
        {
          "output_type": "stream",
          "name": "stdout",
          "text": [
            "ScriptReviewer (to Manager):\n",
            "\n",
            "Here’s a detailed critique of your “The Microbe Detective” script‐outline, focused on effectiveness, engagement, pacing and alignment with your eco-cleaning campaign. Wherever possible, I’ve noted actionable tweaks.\n",
            "\n",
            "1. OVERALL CONCEPT & TONE  \n",
            "• Strengths:  \n",
            "  – Film-noir framing gives you an instantly recognizable style that stands out from typical cleaning ads.  \n",
            "  – Detective + talking dog is playful and lends itself to humorous banter.  \n",
            "  – The “cases” metaphor works well to showcase hidden germs and then “solve” each with your product.  \n",
            "• Risks:  \n",
            "  – Noir tropes (dark lighting, sarcastic asides) can undercut the eco-friendly, family-friendly positioning if over-stressed.  \n",
            "  – If the dog is too chatty or the detective too cliché, viewers may remember the jokes but miss the sustainability message.  \n",
            "\n",
            "Recommendation: Lean into a “light-noir” palette—moody music and silhouettes, but upbeat voice–overs and pops of green/blue on screen to signal “eco.” Keep quips short and refocus every beat on product benefit or green credential.  \n",
            "\n",
            "2. PACING & STRUCTURE (2:30 TOTAL)  \n",
            "Breakdown suggestion (150 seconds total):  \n",
            "  • Opening Title/Hook (0–10s)  \n",
            "    – Quick establishing shot: neon “Crime Scene” tape on a greasy countertop. Detective Green’s silhouette steps in.  \n",
            "    – Hook line: “Time to crack the case on those unseen invaders…”  \n",
            "  • Kitchen Crime Scene (10–45s)  \n",
            "    – Show mini-drama: detective dusts for “fingerprints” in spatters, Watson sniffs a counter.  \n",
            "    – Spray product → UV lamp reveals vanished microbes.  \n",
            "    – Key line: “Not so fast, scoundrels—GreenGuard Clean eats through grime, not the planet.”  \n",
            "  • Bathroom Bogeyman (45–75s)  \n",
            "    – Dramatic reveal: a dripping bathtub ring “haunted” by green-hued germs.  \n",
            "    – Quick product demo: foam action dissolves the ring.  \n",
            "    – Data call-out: “2X grease-cutting power, zero harsh chemicals.”  \n",
            "  • Living Room Lockdown (75–110s)  \n",
            "    – Cluttered coffee-table germs rallying. Detective flips a coaster; Watson distracts them with a squeaky toy.  \n",
            "    – Spray + microfiber cloth → surface restored.  \n",
            "    – On-screen stat: “Biodegradable formula—safe for kids and pets.”  \n",
            "  • Eco-Credentials Montage (110–135s)  \n",
            "    – Fast cuts of nature: lemon groves, bamboo forests, recycled bottles.  \n",
            "    – Overlay bullet points:  \n",
            "       • Plant-based surfactants  \n",
            "       • Recycled/ recyclable packaging  \n",
            "       • Carbon-neutral production  \n",
            "    – Voice-over tie-in: “Every bottle is a small victory for the planet.”  \n",
            "  • Case Closed (135–150s)  \n",
            "    – Detective and Watson high-five/paw.  \n",
            "    – Tagline: “The Microbe Detective: Case Closed on germs, case opened for Earth.”  \n",
            "    – End card: product lineup + website/hashtag.  \n",
            "\n",
            "3. SCENE-BY-SCENE FEEDBACK  \n",
            "Kitchen Crime Scene  \n",
            "  – Make the “crime” obvious: visible oil splatter, coffee rings.  \n",
            "  – Use a split-screen: “Before” detective finding clues vs. “After” clean shelf.  \n",
            "  – Ensure we hear a unique SFX when the germ residues vanish.\n",
            "\n",
            "Bathroom Bogeyman  \n",
            "  – Bogeyman design: should look whimsical, not gross-out. Think green bubbles with cheeky eyes rather than slime puddles.  \n",
            "  – Consider a brief 3-second graphic “poison meter” showing zero toxins.\n",
            "\n",
            "Living Room Lockdown  \n",
            "  – Lean into Watson’s role: dog nose pinpointing hotspots (e.g. remote, armrest).  \n",
            "  – Avoid too many props—focus on 1–2 germ targets so the demo stays tight.\n",
            "\n",
            "Eco-Credentials Montage  \n",
            "  – Graphic balance: not too text-heavy. Use icons (leaf, bottle, globe) with one-line captions.  \n",
            "  – Keep this under 25 seconds so momentum doesn’t stall.\n",
            "\n",
            "Case Closed  \n",
            "  – Close with a memorable image: detective tipping his hat, product shining in spotlight.  \n",
            "  – Strong call to action: website URL + social handle in branded green.\n",
            "\n",
            "4. CHARACTER DIALOGUE & BRAND ALIGNMENT  \n",
            "• Detective Green: witty but sincere. Aim for one witty line per scene, then segue immediately to product benefit.  \n",
            "• Watson: lovable sidekick. Limit to 2–3 one-liners (e.g. “You missed a spot, boss!”). Avoid distracting voice-over overload.  \n",
            "• Brand voice: confident, eco-positive, playful. Steer clear of “fear-mongering” germ language—keep it light.\n",
            "\n",
            "5. VISUAL & AUDIO TIPS  \n",
            "• Color palette: noir grays + signature brand green. When the product works, flood the frame with green-tinged light to symbolize “clean.”  \n",
            "• Sound design: dripping faucets, squeaky toys, swooshes for reveals. A light jazzy detective theme that stays cheerful.  \n",
            "• Graphics: kinetic text overlays for metrics, minimal transitions to keep the pace brisk.\n",
            "\n",
            "6. NEXT-LEVEL ENGAGEMENT IDEAS  \n",
            "• Interactive CTA: “Scan the code to unlock your own ‘Detective Kit’—free sample + germ-spotting UV flashlight.”  \n",
            "• Social extension: invite viewers to post their own “germ crime scene” #MicrobeDetectiveChallenge.  \n",
            "• Short “outtakes” with Watson flubbing lines could run on social to extend reach.\n",
            "\n",
            "Summary  \n",
            "You’ve got a fun genre mash-up that differentiates you from standard cleaning spots. Tighten each scene to a single germ “case,” balance humor with product proof, and punctuate every beat with eco-friendly credentials. That will keep viewers entertained, educated, and ready to buy.\n",
            "\n",
            "--------------------------------------------------------------------------------\n",
            "\n",
            ">>>>>>>> TERMINATING RUN (a57c92fa-4c82-48d4-85c7-1671fb67eb38): Maximum turns (1) reached\n",
            "[autogen.oai.client: 05-13 17:08:43] {696} WARNING - Model o4-mini is not found. The cost will be 0. In your config_list, add field {\"price\" : [prompt_price_per_1k, completion_token_price_per_1k]} for customized pricing.\n"
          ]
        },
        {
          "output_type": "stream",
          "name": "stderr",
          "text": [
            "WARNING:autogen.oai.client:Model o4-mini is not found. The cost will be 0. In your config_list, add field {\"price\" : [prompt_price_per_1k, completion_token_price_per_1k]} for customized pricing.\n"
          ]
        },
        {
          "output_type": "stream",
          "name": "stdout",
          "text": [
            "\n",
            "********************************************************************************\n",
            "Starting a new chat....\n",
            "\n",
            "********************************************************************************\n",
            "Manager (to Manager):\n",
            "\n",
            "Based on the script and review, decide if the script is ready for production or need revisions. If revisions are needed, specify the key areas to address.\n",
            "Context: \n",
            "{\n",
            "  \"idea1\": {\n",
            "    \"concept\": \"Green Makeover Challenge\",\n",
            "    \"storyline\": \"Two families go head-to-head converting from conventional to eco-friendly cleaning in three timed rounds (kitchen, bathroom, living room), demonstrating product performance and sustainability metrics.\",\n",
            "    \"characters\": \"Host (energetic influencer), Family A, Family B\"\n",
            "  },\n",
            "  \"idea2\": {\n",
            "    \"concept\": \"The Microbe Detective\",\n",
            "    \"storyline\": \"A film-noir style detective and his dog sidekick hunt down and expose hidden germ-gangsters in household hotspots, using eco-friendly spray and UV reveals to solve each case.\",\n",
            "    \"characters\": \"Detective Green (tweed-jacket sleuth), Watson (talking pet dog)\"\n",
            "  },\n",
            "  \"idea3\": {\n",
            "    \"concept\": \"Nature’s Little Helpers\",\n",
            "    \"storyline\": \"Personified natural ingredients team up to defeat animated dirt-bugs in quick, colorful battles, showcasing each ingredient’s eco-benefit.\",\n",
            "    \"characters\": \"Lemon Lulu (citrus sprayer), Baking-Bob (odor-neutralizing powder), Bamboo Bree (fiber scrubber)\"\n",
            "  }\n",
            "}\n",
            "{\n",
            "  \"title\": \"The Microbe Detective\",\n",
            "  \"main_characters\": [\n",
            "    \"Detective Green\",\n",
            "    \"Watson\"\n",
            "  ],\n",
            "  \"key_scenes\": [\n",
            "    \"Kitchen Crime Scene\",\n",
            "    \"Bathroom Bogeyman\",\n",
            "    \"Living Room Lockdown\",\n",
            "    \"Eco-credentials Montage\",\n",
            "    \"Case Closed\"\n",
            "  ],\n",
            "  \"estimated_duration\": \"2:30\"\n",
            "}\n",
            "{\"strengths\":[  \n",
            "  \"Film-noir framing stands out from typical cleaning ads\",  \n",
            "  \"Playful detective + talking dog duo creates engaging humor\",  \n",
            "  \"‘Case’ structure clearly showcases hidden germs and product solution\"  \n",
            "],\"weaknesses\":[  \n",
            "  \"Heavy noir tropes risk clashing with eco-friendly, family-friendly tone\",  \n",
            "  \"Excessive character banter (especially Watson) can dilute the sustainability message\",  \n",
            "  \"Eco-credentials montage may stall pacing if too long or text-heavy\",  \n",
            "  \"Living room scene risks feeling cluttered without a tight focus\"  \n",
            "],\"suggestions\":[  \n",
            "  \"Adopt a light-noir palette (moody grays + brand green highlights) with upbeat voice-over\",  \n",
            "  \"Limit humor: one witty line per scene for Detective Green, 2–3 lines max for Watson\",  \n",
            "  \"Strictly allocate scene durations (e.g. 10s hook, 35s kitchen, 30s bathroom, 35s living room, 25s montage, 15s close)\",  \n",
            "  \"Kitchen scene: use split-screen before/after and a distinctive SFX when germs vanish\",  \n",
            "  \"Bathroom bogeyman: design as friendly green bubbles and include a 3s ‘zero toxins’ graphic\",  \n",
            "  \"Living room: focus on 1–2 hotspot targets and showcase Watson sniffing them out\",  \n",
            "  \"Eco montage: use simple icons with one-line captions, keep under 25 seconds\",  \n",
            "  \"Case closed: memorable final shot (detective tip-of-the-hat, product in spotlight) plus clear CTA (URL + hashtag)\",  \n",
            "  \"Include interactive/social extension (QR code for sample, #MicrobeDetectiveChallenge UGC)\",  \n",
            "  \"Reinforce sound design: cheerful jazz theme, effective SFX for sprays and reveals\"  \n",
            "]}\n",
            "\n",
            "--------------------------------------------------------------------------------\n",
            "[autogen.oai.client: 05-13 17:09:03] {696} WARNING - Model o4-mini is not found. The cost will be 0. In your config_list, add field {\"price\" : [prompt_price_per_1k, completion_token_price_per_1k]} for customized pricing.\n"
          ]
        },
        {
          "output_type": "stream",
          "name": "stderr",
          "text": [
            "WARNING:autogen.oai.client:Model o4-mini is not found. The cost will be 0. In your config_list, add field {\"price\" : [prompt_price_per_1k, completion_token_price_per_1k]} for customized pricing.\n"
          ]
        },
        {
          "output_type": "stream",
          "name": "stdout",
          "text": [
            "Manager (to Manager):\n",
            "\n",
            "The “Microbe Detective” spot is not yet production-ready—it needs a focused pass on tone, pacing and clarity. Key areas to address before you roll cameras:\n",
            "\n",
            "1. Tone Consistency  \n",
            "   • Dial back heavy film-noir tropes so the spot stays family-friendly and upbeat.  \n",
            "   • Use a “light-noir” look (moody grays + brand green) with an energetic, warm VO rather than brooding monologues.  \n",
            "\n",
            "2. Dialogue & Character Banter  \n",
            "   • Trim Watson to 2–3 zingers total; Detective Green gets one solid quip per scene.  \n",
            "   • Eliminate any throwaway lines that don’t advance the sustainability message.  \n",
            "\n",
            "3. Scene Timing & Pacing  \n",
            "   • Lock in your run-of-show: 10s hook, 35s kitchen, 30s bathroom, 35s living room, 25s eco-montage, 15s close.  \n",
            "   • Watch for drag in the montage—aim for under 25 seconds of simple iconography + one-line captions.  \n",
            "\n",
            "4. Scene Focus  \n",
            "   • Kitchen: split-screen before/after + punchy “germ vanish” SFX.  \n",
            "   • Bathroom: render the “bogeyman” as friendly green bubbles, drop in a 3s “zero toxins” badge.  \n",
            "   • Living Room: choose only 1–2 hotspots (e.g. remote, coffee table); show Watson sniffing them out.  \n",
            "\n",
            "5. Eco-Credentials Montage  \n",
            "   • Swap heavy text for bold icons, color-coded stats and a succinct one-liner per benefit.  \n",
            "   • Keep build moving—no more than 5 icons, 5 captions.  \n",
            "\n",
            "6. Close & CTA  \n",
            "   • Final “case closed” shot: detective tip-of-the-hat, product center-frame.  \n",
            "   • Overlay clear CTA: URL + hashtag (#MicrobeDetectiveChallenge) and QR code.  \n",
            "\n",
            "7. Audio & Branding  \n",
            "   • Score: upbeat jazz theme with clean, punchy SFX on sprays and UV flashes.  \n",
            "   • SFX cues (germ reveal, spray hiss) must be mapped to the visual beats.  \n",
            "\n",
            "Once these revisions are made—tightening banter, clarifying the eco-message and nailing the pacing—the script will be ready to move into production.  \n",
            "\n",
            "--------------------------------------------------------------------------------\n",
            "\n",
            ">>>>>>>> TERMINATING RUN (c05a7317-e50a-4717-a206-c9fffa52f00f): Maximum turns (1) reached\n",
            "[autogen.oai.client: 05-13 17:09:08] {696} WARNING - Model o4-mini is not found. The cost will be 0. In your config_list, add field {\"price\" : [prompt_price_per_1k, completion_token_price_per_1k]} for customized pricing.\n"
          ]
        },
        {
          "output_type": "stream",
          "name": "stderr",
          "text": [
            "WARNING:autogen.oai.client:Model o4-mini is not found. The cost will be 0. In your config_list, add field {\"price\" : [prompt_price_per_1k, completion_token_price_per_1k]} for customized pricing.\n"
          ]
        }
      ]
    },
    {
      "cell_type": "code",
      "source": [
        "for chat_result in chat_results:\n",
        "  print(chat_result.summary)\n",
        "  print(\"\\n\")"
      ],
      "metadata": {
        "colab": {
          "base_uri": "https://localhost:8080/"
        },
        "id": "Sm3hbuFc5816",
        "outputId": "2b9cafe6-2508-46dc-ac45-8c39c2e326cf",
        "collapsed": true
      },
      "execution_count": 12,
      "outputs": [
        {
          "output_type": "stream",
          "name": "stdout",
          "text": [
            "{\n",
            "  \"idea1\": {\n",
            "    \"concept\": \"Green Makeover Challenge\",\n",
            "    \"storyline\": \"Two families go head-to-head converting from conventional to eco-friendly cleaning in three timed rounds (kitchen, bathroom, living room), demonstrating product performance and sustainability metrics.\",\n",
            "    \"characters\": \"Host (energetic influencer), Family A, Family B\"\n",
            "  },\n",
            "  \"idea2\": {\n",
            "    \"concept\": \"The Microbe Detective\",\n",
            "    \"storyline\": \"A film-noir style detective and his dog sidekick hunt down and expose hidden germ-gangsters in household hotspots, using eco-friendly spray and UV reveals to solve each case.\",\n",
            "    \"characters\": \"Detective Green (tweed-jacket sleuth), Watson (talking pet dog)\"\n",
            "  },\n",
            "  \"idea3\": {\n",
            "    \"concept\": \"Nature’s Little Helpers\",\n",
            "    \"storyline\": \"Personified natural ingredients team up to defeat animated dirt-bugs in quick, colorful battles, showcasing each ingredient’s eco-benefit.\",\n",
            "    \"characters\": \"Lemon Lulu (citrus sprayer), Baking-Bob (odor-neutralizing powder), Bamboo Bree (fiber scrubber)\"\n",
            "  }\n",
            "}\n",
            "\n",
            "\n",
            "{\n",
            "  \"title\": \"The Microbe Detective\",\n",
            "  \"main_characters\": [\n",
            "    \"Detective Green\",\n",
            "    \"Watson\"\n",
            "  ],\n",
            "  \"key_scenes\": [\n",
            "    \"Kitchen Crime Scene\",\n",
            "    \"Bathroom Bogeyman\",\n",
            "    \"Living Room Lockdown\",\n",
            "    \"Eco-credentials Montage\",\n",
            "    \"Case Closed\"\n",
            "  ],\n",
            "  \"estimated_duration\": \"2:30\"\n",
            "}\n",
            "\n",
            "\n",
            "{\"strengths\":[  \n",
            "  \"Film-noir framing stands out from typical cleaning ads\",  \n",
            "  \"Playful detective + talking dog duo creates engaging humor\",  \n",
            "  \"‘Case’ structure clearly showcases hidden germs and product solution\"  \n",
            "],\"weaknesses\":[  \n",
            "  \"Heavy noir tropes risk clashing with eco-friendly, family-friendly tone\",  \n",
            "  \"Excessive character banter (especially Watson) can dilute the sustainability message\",  \n",
            "  \"Eco-credentials montage may stall pacing if too long or text-heavy\",  \n",
            "  \"Living room scene risks feeling cluttered without a tight focus\"  \n",
            "],\"suggestions\":[  \n",
            "  \"Adopt a light-noir palette (moody grays + brand green highlights) with upbeat voice-over\",  \n",
            "  \"Limit humor: one witty line per scene for Detective Green, 2–3 lines max for Watson\",  \n",
            "  \"Strictly allocate scene durations (e.g. 10s hook, 35s kitchen, 30s bathroom, 35s living room, 25s montage, 15s close)\",  \n",
            "  \"Kitchen scene: use split-screen before/after and a distinctive SFX when germs vanish\",  \n",
            "  \"Bathroom bogeyman: design as friendly green bubbles and include a 3s ‘zero toxins’ graphic\",  \n",
            "  \"Living room: focus on 1–2 hotspot targets and showcase Watson sniffing them out\",  \n",
            "  \"Eco montage: use simple icons with one-line captions, keep under 25 seconds\",  \n",
            "  \"Case closed: memorable final shot (detective tip-of-the-hat, product in spotlight) plus clear CTA (URL + hashtag)\",  \n",
            "  \"Include interactive/social extension (QR code for sample, #MicrobeDetectiveChallenge UGC)\",  \n",
            "  \"Reinforce sound design: cheerful jazz theme, effective SFX for sprays and reveals\"  \n",
            "]}\n",
            "\n",
            "\n",
            "{\"decision\":\"needs_revision\",\"key_revision_areas\":[\"Tone Consistency\",\"Dialogue & Character Banter\",\"Scene Timing & Pacing\",\"Scene Focus\",\"Eco-Credentials Montage\",\"Close & CTA\",\"Audio & Branding\"]}\n",
            "\n",
            "\n"
          ]
        }
      ]
    },
    {
      "cell_type": "code",
      "source": [
        "for chat_result in chat_results:\n",
        "  print(chat_result.cost)\n",
        "  print(\"\\n\")"
      ],
      "metadata": {
        "colab": {
          "base_uri": "https://localhost:8080/"
        },
        "id": "ZcoRTx8nJZGV",
        "outputId": "92c5d5ac-46d2-4679-a436-588c9cf58ec7",
        "collapsed": true
      },
      "execution_count": 13,
      "outputs": [
        {
          "output_type": "stream",
          "name": "stdout",
          "text": [
            "{'usage_including_cached_inference': {'total_cost': 0, 'o4-mini': {'cost': 0, 'prompt_tokens': 5864, 'completion_tokens': 4035, 'total_tokens': 9899}}, 'usage_excluding_cached_inference': {'total_cost': 0, 'o4-mini': {'cost': 0, 'prompt_tokens': 5864, 'completion_tokens': 4035, 'total_tokens': 9899}}}\n",
            "\n",
            "\n",
            "{'usage_including_cached_inference': {'total_cost': 0, 'o4-mini': {'cost': 0, 'prompt_tokens': 4228, 'completion_tokens': 3817, 'total_tokens': 8045}}, 'usage_excluding_cached_inference': {'total_cost': 0, 'o4-mini': {'cost': 0, 'prompt_tokens': 4228, 'completion_tokens': 3817, 'total_tokens': 8045}}}\n",
            "\n",
            "\n",
            "{'usage_including_cached_inference': {'total_cost': 0, 'o4-mini': {'cost': 0, 'prompt_tokens': 3661, 'completion_tokens': 4188, 'total_tokens': 7849}}, 'usage_excluding_cached_inference': {'total_cost': 0, 'o4-mini': {'cost': 0, 'prompt_tokens': 3661, 'completion_tokens': 4188, 'total_tokens': 7849}}}\n",
            "\n",
            "\n",
            "{'usage_including_cached_inference': {'total_cost': 0, 'o4-mini': {'cost': 0, 'prompt_tokens': 11154, 'completion_tokens': 4850, 'total_tokens': 16004}}, 'usage_excluding_cached_inference': {'total_cost': 0, 'o4-mini': {'cost': 0, 'prompt_tokens': 11154, 'completion_tokens': 4850, 'total_tokens': 16004}}}\n",
            "\n",
            "\n"
          ]
        }
      ]
    },
    {
      "cell_type": "markdown",
      "source": [
        "###Add web search ability to research assistant"
      ],
      "metadata": {
        "id": "WEKKXAghoarL"
      }
    },
    {
      "cell_type": "code",
      "source": [
        "!pip install \"tavily-python\""
      ],
      "metadata": {
        "id": "RUFh-1MsJjBC",
        "colab": {
          "base_uri": "https://localhost:8080/"
        },
        "collapsed": true,
        "outputId": "e6a138d0-4fdd-41ce-f2ed-dad8f8786067"
      },
      "execution_count": 14,
      "outputs": [
        {
          "output_type": "stream",
          "name": "stdout",
          "text": [
            "Collecting tavily-python\n",
            "  Downloading tavily_python-0.7.2-py3-none-any.whl.metadata (7.0 kB)\n",
            "Requirement already satisfied: requests in /usr/local/lib/python3.11/dist-packages (from tavily-python) (2.32.3)\n",
            "Requirement already satisfied: tiktoken>=0.5.1 in /usr/local/lib/python3.11/dist-packages (from tavily-python) (0.9.0)\n",
            "Requirement already satisfied: httpx in /usr/local/lib/python3.11/dist-packages (from tavily-python) (0.28.1)\n",
            "Requirement already satisfied: regex>=2022.1.18 in /usr/local/lib/python3.11/dist-packages (from tiktoken>=0.5.1->tavily-python) (2024.11.6)\n",
            "Requirement already satisfied: charset-normalizer<4,>=2 in /usr/local/lib/python3.11/dist-packages (from requests->tavily-python) (3.4.2)\n",
            "Requirement already satisfied: idna<4,>=2.5 in /usr/local/lib/python3.11/dist-packages (from requests->tavily-python) (3.10)\n",
            "Requirement already satisfied: urllib3<3,>=1.21.1 in /usr/local/lib/python3.11/dist-packages (from requests->tavily-python) (2.4.0)\n",
            "Requirement already satisfied: certifi>=2017.4.17 in /usr/local/lib/python3.11/dist-packages (from requests->tavily-python) (2025.4.26)\n",
            "Requirement already satisfied: anyio in /usr/local/lib/python3.11/dist-packages (from httpx->tavily-python) (4.9.0)\n",
            "Requirement already satisfied: httpcore==1.* in /usr/local/lib/python3.11/dist-packages (from httpx->tavily-python) (1.0.9)\n",
            "Requirement already satisfied: h11>=0.16 in /usr/local/lib/python3.11/dist-packages (from httpcore==1.*->httpx->tavily-python) (0.16.0)\n",
            "Requirement already satisfied: sniffio>=1.1 in /usr/local/lib/python3.11/dist-packages (from anyio->httpx->tavily-python) (1.3.1)\n",
            "Requirement already satisfied: typing_extensions>=4.5 in /usr/local/lib/python3.11/dist-packages (from anyio->httpx->tavily-python) (4.13.2)\n",
            "Downloading tavily_python-0.7.2-py3-none-any.whl (14 kB)\n",
            "Installing collected packages: tavily-python\n",
            "Successfully installed tavily-python-0.7.2\n"
          ]
        }
      ]
    },
    {
      "cell_type": "code",
      "source": [
        "from typing import Annotated\n",
        "from tavily import TavilyClient\n",
        "from autogen import AssistantAgent, UserProxyAgent, config_list_from_json, register_function"
      ],
      "metadata": {
        "id": "39U_9GOaojaH"
      },
      "execution_count": 18,
      "outputs": []
    },
    {
      "cell_type": "markdown",
      "source": [
        "###tavily as a tool for searching the web"
      ],
      "metadata": {
        "id": "f7J5b2iDrv0u"
      }
    },
    {
      "cell_type": "code",
      "source": [
        "tavily = TavilyClient(api_key=userdata.get(\"TAVILY_API_KEY\"))\n",
        "\n",
        "def search_tool(query: Annotated[str, \"The search query\"]) -> Annotated[str, \"The search results\"]:\n",
        "  return tavily.get_search_context(query=query, search_depth=\"advanced\")"
      ],
      "metadata": {
        "id": "7sF4eJX2o_sA"
      },
      "execution_count": 20,
      "outputs": []
    },
    {
      "cell_type": "markdown",
      "source": [
        "###Adding a ReAct prompt"
      ],
      "metadata": {
        "id": "E6nPouZ8xQM7"
      }
    },
    {
      "cell_type": "code",
      "source": [
        "ReAct_prompt = \"\"\"\n",
        "Answer the following questions as best you can. You have access to tools provided.\n",
        "\n",
        "Use the following format:\n",
        "\n",
        "Question: the input question you must answer\n",
        "Thought: you should always think about what to do\n",
        "Action: the action to take\n",
        "Action Input: the input to the action\n",
        "Observation: the result of the action\n",
        "... (this process can repeat multiple times)\n",
        "Thought: I now know the final answer\n",
        "Final Answer: the final answer to the original input question\n",
        "\n",
        "Begin!\n",
        "Question: {input}\n",
        "\"\"\"\n",
        "\n",
        "# Define the ReAct prompt message. Assuming a \"question\" field is present in the context\n",
        "def react_prompt_message(sender, recipient, context):\n",
        "  return ReAct_prompt.format(input=context[\"question\"])"
      ],
      "metadata": {
        "id": "B2loIe8SpBuK"
      },
      "execution_count": 21,
      "outputs": []
    },
    {
      "cell_type": "markdown",
      "source": [
        "###Define agents"
      ],
      "metadata": {
        "id": "FM2wZXbvyw1o"
      }
    },
    {
      "cell_type": "code",
      "source": [
        "user_proxy = UserProxyAgent(\n",
        "    name=\"User\",\n",
        "    is_termination_msg=lambda x: x.get(\"content\", \"\") and x.get(\"content\", \"\").rstrip().endswith(\"TERMINATE\"),\n",
        "    human_input_mode=\"ALWAYS\",\n",
        "    max_consecutive_auto_reply=10,\n",
        "    code_execution_config=False\n",
        ")\n",
        "\n",
        "research_assistant = AssistantAgent(\n",
        "    name=\"Assistant\",\n",
        "    system_message=\"\"\"\n",
        "                  You are a helpful research assistant who has the ability to seach the web using the provided tools.\n",
        "                  Only use the tools you have been provided with. Reply TERMINATE when the task is done.\n",
        "                  \"\"\",\n",
        "    llm_config=llm_config,\n",
        ")"
      ],
      "metadata": {
        "id": "2XlaM8oByva9"
      },
      "execution_count": 22,
      "outputs": []
    },
    {
      "cell_type": "markdown",
      "source": [
        "###Register the search tool"
      ],
      "metadata": {
        "id": "6CI0PMpJ0ZSS"
      }
    },
    {
      "cell_type": "code",
      "source": [
        "register_function(\n",
        "    search_tool,\n",
        "    caller= research_assistant,\n",
        "    executor=user_proxy,\n",
        "    name=\"search_tool\",\n",
        "    description=\"Search the web for the given query\",\n",
        ")"
      ],
      "metadata": {
        "id": "HOcS7-lMzk-j"
      },
      "execution_count": 23,
      "outputs": []
    },
    {
      "cell_type": "markdown",
      "source": [
        "###Initiate the chat"
      ],
      "metadata": {
        "id": "CwuOUPZ30pCZ"
      }
    },
    {
      "cell_type": "code",
      "source": [
        "user_proxy.initiate_chat(\n",
        "    research_assistant,\n",
        "    message=react_prompt_message,\n",
        "    question=\"Who wown the T20 cricket world cup in 2024\",\n",
        ")\n"
      ],
      "metadata": {
        "colab": {
          "base_uri": "https://localhost:8080/"
        },
        "collapsed": true,
        "id": "jNWwZFc_0mTS",
        "outputId": "1110e11b-2242-46ca-d370-0af0370792d0"
      },
      "execution_count": 24,
      "outputs": [
        {
          "output_type": "stream",
          "name": "stdout",
          "text": [
            "User (to Assistant):\n",
            "\n",
            "\n",
            "Answer the following questions as best you can. You have access to tools provided.\n",
            "\n",
            "Use the following format:\n",
            "\n",
            "Question: the input question you must answer\n",
            "Thought: you should always think about what to do\n",
            "Action: the action to take\n",
            "Action Input: the input to the action\n",
            "Observation: the result of the action\n",
            "... (this process can repeat multiple times)\n",
            "Thought: I now know the final answer\n",
            "Final Answer: the final answer to the original input question\n",
            "\n",
            "Begin!\n",
            "Question: Who wown the T20 cricket world cup in 2024\n",
            "\n",
            "\n",
            "--------------------------------------------------------------------------------\n",
            "[autogen.oai.client: 05-13 18:06:35] {696} WARNING - Model o4-mini is not found. The cost will be 0. In your config_list, add field {\"price\" : [prompt_price_per_1k, completion_token_price_per_1k]} for customized pricing.\n"
          ]
        },
        {
          "output_type": "stream",
          "name": "stderr",
          "text": [
            "WARNING:autogen.oai.client:Model o4-mini is not found. The cost will be 0. In your config_list, add field {\"price\" : [prompt_price_per_1k, completion_token_price_per_1k]} for customized pricing.\n"
          ]
        },
        {
          "output_type": "stream",
          "name": "stdout",
          "text": [
            "Assistant (to User):\n",
            "\n",
            "***** Suggested tool call (call_Ak22rrJ11VuR59zIhIFra97H): search_tool *****\n",
            "Arguments: \n",
            "{\"query\": \"2024 ICC Men's T20 World Cup winner\"}\n",
            "****************************************************************************\n",
            "\n",
            "--------------------------------------------------------------------------------\n",
            "Replying as User. Provide feedback to Assistant. Press enter to skip and use auto-reply, or type 'exit' to end the conversation: \n",
            "\n",
            ">>>>>>>> NO HUMAN INPUT RECEIVED.\n",
            "\n",
            ">>>>>>>> USING AUTO REPLY...\n",
            "\n",
            ">>>>>>>> EXECUTING FUNCTION search_tool...\n",
            "Call ID: call_Ak22rrJ11VuR59zIhIFra97H\n",
            "Input arguments: {'query': \"2024 ICC Men's T20 World Cup winner\"}\n",
            "User (to Assistant):\n",
            "\n",
            "***** Response from calling tool (call_Ak22rrJ11VuR59zIhIFra97H) *****\n",
            "[{\"url\": \"https://en.wikipedia.org/wiki/2024_Men%27s_T20_World_Cup_final\", \"content\": \"The 2024 ICC Men's T20 World Cup final was a Twenty20 International (T20I) cricket match played at Kensington Oval in Bridgetown, Barbados on 29 June 2024 to determine the winner of the 2024 ICC Men's T20 World Cup. It was played between South Africa and India. [...] 2024 ICC Men's T20 World Cup finalThe Kensington Oval in Bridgetown (pictured in 2008) hosted its second Men's T20 World Cup final.Event2024 ICC Men's T20 World CupIndiaSouth Africa176/7169/820 overs20 oversIndia won by 7 runsDate29 June 2024VenueKensington Oval, BridgetownPlayer of the matchVirat Kohli (Ind)UmpiresChris Gaffaney (NZ)Richard Illingworth (Eng)\\u2190 20222026 \\u2192\\nCricket final [...] India won the toss and electing to bat first, they registered a score of 176/7. In the second innings, South Africa managed to post a score of 169/8 thus India claimed the victory by 7 runs to win their second T20 World Cup title. Virat Kohli was named Player of the Match for scoring 76 runs off 59 balls. Following the victory, Kohli, Indian captain Rohit Sharma and Ravindra Jadeja announced their retirement from T20I cricket.\\nBackground\\n[edit]\\nMain article: 2024 Men's T20 World Cup\"}, {\"url\": \"https://www.jagranjosh.com/general-knowledge/list-of-t20-world-cup-winners-till-2024-1719602447-1\", \"content\": \"India won the ICC Men's T20 World Cup 2024 second time by defeating South Africa in the final. This marks India's second title, ending a 13-year\"}, {\"url\": \"https://www.espncricinfo.com/series/icc-men-s-t20-world-cup-2024-1411166\", \"content\": \"Winner. India. Matches. RESULT. Final, Bridgetown, June 29, 2024, ICC Men's T20 World Cup. IND Flag. IND. 176/7. SA Flag. SA. (20 ov, T:177) 169/8. India won by\"}, {\"url\": \"https://www.espncricinfo.com/series/icc-men-s-t20-world-cup-2024-1411166/india-vs-south-africa-final-1415755/full-scorecard\", \"content\": \"Match Details\\nKensington Oval, Bridgetown, BarbadosTossIndia, elected to bat firstSeriesICC Men's T20 World CupSeason2024Player Of The MatchVirat KohliPlayer Of The SeriesJasprit BumrahSeries resultIndia won the 2024 ICC Men's T20 World CupMatch numberT20I no. 2729Match days29 June 2024 - day (20-over match)UmpiresChris GaffaneyDRSRichard IllingworthDRSTV UmpireRichard KettleboroughReserve UmpireRod TuckerMatch RefereeRichie Richardson\\nSponsored Headlines\"}, {\"url\": \"https://en.wikipedia.org/wiki/2024_Men%27s_T20_World_Cup\", \"content\": \"The ICC Men's T20 World Cup is a biennial world cup for cricket in Twenty20 International (T20I) format, organised by the International Cricket Council (ICC), and 2024 was the ninth edition.[1] in South Africa.[2] in Australia, was contested by 16 teams,[3], who defeated Pakistan in the final.[4]\\nHost selection\\n[edit] [...] 2024 ICC Men's T20 World CupDates1 \\u2013 29 June 2024Administrator(s)International Cricket CouncilCricket formatTwenty20 InternationalTournament format(s)Group stage, Super 8s and Knockout stageHost(s).mw-parser-output .plainlist ol,.mw-parser-output .plainlist ul{line-height:inherit;list-style:none;margin:0;padding:0}.mw-parser-output .plainlist ol li,.mw-parser-output .plainlist ul li{margin-bottom:0}West IndiesUnited StatesChampions\\u00a0India (2nd title)Runners-up\\u00a0South [...] Warm-up match 151\\u00a0June\\u00a02024\\u00a0(2024-06-01)10:30\\u00a0UTC\\u22124Scorecard\\nIndia\\u00a0182/5 (20 overs)v\\u00a0Bangladesh122/9 (20 overs)Rishabh Pant 53 (32)Mahmudullah 1/16 (2 overs)Mahmudullah 40 (28)Arshdeep Singh 2/12 (3 overs)\\nIndia won by 60 runsNassau County International Cricket Stadium, East MeadowUmpires: Chris Brown (NZ) and Richard Kettleborough (Eng)\\n\\nIndia won the toss and elected to bat.\"}]\n",
            "**********************************************************************\n",
            "\n",
            "--------------------------------------------------------------------------------\n",
            "[autogen.oai.client: 05-13 18:12:28] {696} WARNING - Model o4-mini is not found. The cost will be 0. In your config_list, add field {\"price\" : [prompt_price_per_1k, completion_token_price_per_1k]} for customized pricing.\n"
          ]
        },
        {
          "output_type": "stream",
          "name": "stderr",
          "text": [
            "WARNING:autogen.oai.client:Model o4-mini is not found. The cost will be 0. In your config_list, add field {\"price\" : [prompt_price_per_1k, completion_token_price_per_1k]} for customized pricing.\n"
          ]
        },
        {
          "output_type": "stream",
          "name": "stdout",
          "text": [
            "Assistant (to User):\n",
            "\n",
            "Question: Who won the T20 cricket World Cup in 2024  \n",
            "Thought: I should look up the winner of the 2024 ICC Men’s T20 World Cup.  \n",
            "Action: search_tool  \n",
            "Action Input: {\"query\": \"2024 ICC Men's T20 World Cup winner\"}  \n",
            "Observation: The final was played between India and South Africa on 29 June 2024 at Kensington Oval, Bridgetown. India batted first and scored 176/7; South Africa managed 169/8. India won by 7 runs.  \n",
            "Thought: I now know the final answer.  \n",
            "Final Answer: India.\n",
            "\n",
            "--------------------------------------------------------------------------------\n",
            "Replying as User. Provide feedback to Assistant. Press enter to skip and use auto-reply, or type 'exit' to end the conversation: exit\n",
            "\n",
            ">>>>>>>> TERMINATING RUN (7bd0f320-9fd6-4125-a6fb-357ab5bec858): User requested to end the conversation\n"
          ]
        },
        {
          "output_type": "execute_result",
          "data": {
            "text/plain": [
              "ChatResult(chat_id=None, chat_history=[{'content': '\\nAnswer the following questions as best you can. You have access to tools provided.\\n\\nUse the following format:\\n\\nQuestion: the input question you must answer\\nThought: you should always think about what to do\\nAction: the action to take\\nAction Input: the input to the action\\nObservation: the result of the action\\n... (this process can repeat multiple times)\\nThought: I now know the final answer\\nFinal Answer: the final answer to the original input question\\n\\nBegin!\\nQuestion: Who wown the T20 cricket world cup in 2024\\n', 'role': 'assistant', 'name': 'User'}, {'tool_calls': [{'id': 'call_Ak22rrJ11VuR59zIhIFra97H', 'function': {'arguments': '{\"query\": \"2024 ICC Men\\'s T20 World Cup winner\"}', 'name': 'search_tool'}, 'type': 'function'}], 'content': None, 'role': 'assistant'}, {'content': '[{\"url\": \"https://en.wikipedia.org/wiki/2024_Men%27s_T20_World_Cup_final\", \"content\": \"The 2024 ICC Men\\'s T20 World Cup final was a Twenty20 International (T20I) cricket match played at Kensington Oval in Bridgetown, Barbados on 29 June 2024 to determine the winner of the 2024 ICC Men\\'s T20 World Cup. It was played between South Africa and India. [...] 2024 ICC Men\\'s T20 World Cup finalThe Kensington Oval in Bridgetown (pictured in 2008) hosted its second Men\\'s T20 World Cup final.Event2024 ICC Men\\'s T20 World CupIndiaSouth Africa176/7169/820 overs20 oversIndia won by 7 runsDate29 June 2024VenueKensington Oval, BridgetownPlayer of the matchVirat Kohli (Ind)UmpiresChris Gaffaney (NZ)Richard Illingworth (Eng)\\\\u2190 20222026 \\\\u2192\\\\nCricket final [...] India won the toss and electing to bat first, they registered a score of 176/7. In the second innings, South Africa managed to post a score of 169/8 thus India claimed the victory by 7 runs to win their second T20 World Cup title. Virat Kohli was named Player of the Match for scoring 76 runs off 59 balls. Following the victory, Kohli, Indian captain Rohit Sharma and Ravindra Jadeja announced their retirement from T20I cricket.\\\\nBackground\\\\n[edit]\\\\nMain article: 2024 Men\\'s T20 World Cup\"}, {\"url\": \"https://www.jagranjosh.com/general-knowledge/list-of-t20-world-cup-winners-till-2024-1719602447-1\", \"content\": \"India won the ICC Men\\'s T20 World Cup 2024 second time by defeating South Africa in the final. This marks India\\'s second title, ending a 13-year\"}, {\"url\": \"https://www.espncricinfo.com/series/icc-men-s-t20-world-cup-2024-1411166\", \"content\": \"Winner. India. Matches. RESULT. Final, Bridgetown, June 29, 2024, ICC Men\\'s T20 World Cup. IND Flag. IND. 176/7. SA Flag. SA. (20 ov, T:177) 169/8. India won by\"}, {\"url\": \"https://www.espncricinfo.com/series/icc-men-s-t20-world-cup-2024-1411166/india-vs-south-africa-final-1415755/full-scorecard\", \"content\": \"Match Details\\\\nKensington Oval, Bridgetown, BarbadosTossIndia, elected to bat firstSeriesICC Men\\'s T20 World CupSeason2024Player Of The MatchVirat KohliPlayer Of The SeriesJasprit BumrahSeries resultIndia won the 2024 ICC Men\\'s T20 World CupMatch numberT20I no. 2729Match days29 June 2024 - day (20-over match)UmpiresChris GaffaneyDRSRichard IllingworthDRSTV UmpireRichard KettleboroughReserve UmpireRod TuckerMatch RefereeRichie Richardson\\\\nSponsored Headlines\"}, {\"url\": \"https://en.wikipedia.org/wiki/2024_Men%27s_T20_World_Cup\", \"content\": \"The ICC Men\\'s T20 World Cup is a biennial world cup for cricket in Twenty20 International (T20I) format, organised by the International Cricket Council (ICC), and 2024 was the ninth edition.[1] in South Africa.[2] in Australia, was contested by 16 teams,[3], who defeated Pakistan in the final.[4]\\\\nHost selection\\\\n[edit] [...] 2024 ICC Men\\'s T20 World CupDates1 \\\\u2013 29 June 2024Administrator(s)International Cricket CouncilCricket formatTwenty20 InternationalTournament format(s)Group stage, Super 8s and Knockout stageHost(s).mw-parser-output .plainlist ol,.mw-parser-output .plainlist ul{line-height:inherit;list-style:none;margin:0;padding:0}.mw-parser-output .plainlist ol li,.mw-parser-output .plainlist ul li{margin-bottom:0}West IndiesUnited StatesChampions\\\\u00a0India (2nd title)Runners-up\\\\u00a0South [...] Warm-up match 151\\\\u00a0June\\\\u00a02024\\\\u00a0(2024-06-01)10:30\\\\u00a0UTC\\\\u22124Scorecard\\\\nIndia\\\\u00a0182/5 (20 overs)v\\\\u00a0Bangladesh122/9 (20 overs)Rishabh Pant 53 (32)Mahmudullah 1/16 (2 overs)Mahmudullah 40 (28)Arshdeep Singh 2/12 (3 overs)\\\\nIndia won by 60 runsNassau County International Cricket Stadium, East MeadowUmpires: Chris Brown (NZ) and Richard Kettleborough (Eng)\\\\n\\\\nIndia won the toss and elected to bat.\"}]', 'tool_responses': [{'tool_call_id': 'call_Ak22rrJ11VuR59zIhIFra97H', 'role': 'tool', 'content': '[{\"url\": \"https://en.wikipedia.org/wiki/2024_Men%27s_T20_World_Cup_final\", \"content\": \"The 2024 ICC Men\\'s T20 World Cup final was a Twenty20 International (T20I) cricket match played at Kensington Oval in Bridgetown, Barbados on 29 June 2024 to determine the winner of the 2024 ICC Men\\'s T20 World Cup. It was played between South Africa and India. [...] 2024 ICC Men\\'s T20 World Cup finalThe Kensington Oval in Bridgetown (pictured in 2008) hosted its second Men\\'s T20 World Cup final.Event2024 ICC Men\\'s T20 World CupIndiaSouth Africa176/7169/820 overs20 oversIndia won by 7 runsDate29 June 2024VenueKensington Oval, BridgetownPlayer of the matchVirat Kohli (Ind)UmpiresChris Gaffaney (NZ)Richard Illingworth (Eng)\\\\u2190 20222026 \\\\u2192\\\\nCricket final [...] India won the toss and electing to bat first, they registered a score of 176/7. In the second innings, South Africa managed to post a score of 169/8 thus India claimed the victory by 7 runs to win their second T20 World Cup title. Virat Kohli was named Player of the Match for scoring 76 runs off 59 balls. Following the victory, Kohli, Indian captain Rohit Sharma and Ravindra Jadeja announced their retirement from T20I cricket.\\\\nBackground\\\\n[edit]\\\\nMain article: 2024 Men\\'s T20 World Cup\"}, {\"url\": \"https://www.jagranjosh.com/general-knowledge/list-of-t20-world-cup-winners-till-2024-1719602447-1\", \"content\": \"India won the ICC Men\\'s T20 World Cup 2024 second time by defeating South Africa in the final. This marks India\\'s second title, ending a 13-year\"}, {\"url\": \"https://www.espncricinfo.com/series/icc-men-s-t20-world-cup-2024-1411166\", \"content\": \"Winner. India. Matches. RESULT. Final, Bridgetown, June 29, 2024, ICC Men\\'s T20 World Cup. IND Flag. IND. 176/7. SA Flag. SA. (20 ov, T:177) 169/8. India won by\"}, {\"url\": \"https://www.espncricinfo.com/series/icc-men-s-t20-world-cup-2024-1411166/india-vs-south-africa-final-1415755/full-scorecard\", \"content\": \"Match Details\\\\nKensington Oval, Bridgetown, BarbadosTossIndia, elected to bat firstSeriesICC Men\\'s T20 World CupSeason2024Player Of The MatchVirat KohliPlayer Of The SeriesJasprit BumrahSeries resultIndia won the 2024 ICC Men\\'s T20 World CupMatch numberT20I no. 2729Match days29 June 2024 - day (20-over match)UmpiresChris GaffaneyDRSRichard IllingworthDRSTV UmpireRichard KettleboroughReserve UmpireRod TuckerMatch RefereeRichie Richardson\\\\nSponsored Headlines\"}, {\"url\": \"https://en.wikipedia.org/wiki/2024_Men%27s_T20_World_Cup\", \"content\": \"The ICC Men\\'s T20 World Cup is a biennial world cup for cricket in Twenty20 International (T20I) format, organised by the International Cricket Council (ICC), and 2024 was the ninth edition.[1] in South Africa.[2] in Australia, was contested by 16 teams,[3], who defeated Pakistan in the final.[4]\\\\nHost selection\\\\n[edit] [...] 2024 ICC Men\\'s T20 World CupDates1 \\\\u2013 29 June 2024Administrator(s)International Cricket CouncilCricket formatTwenty20 InternationalTournament format(s)Group stage, Super 8s and Knockout stageHost(s).mw-parser-output .plainlist ol,.mw-parser-output .plainlist ul{line-height:inherit;list-style:none;margin:0;padding:0}.mw-parser-output .plainlist ol li,.mw-parser-output .plainlist ul li{margin-bottom:0}West IndiesUnited StatesChampions\\\\u00a0India (2nd title)Runners-up\\\\u00a0South [...] Warm-up match 151\\\\u00a0June\\\\u00a02024\\\\u00a0(2024-06-01)10:30\\\\u00a0UTC\\\\u22124Scorecard\\\\nIndia\\\\u00a0182/5 (20 overs)v\\\\u00a0Bangladesh122/9 (20 overs)Rishabh Pant 53 (32)Mahmudullah 1/16 (2 overs)Mahmudullah 40 (28)Arshdeep Singh 2/12 (3 overs)\\\\nIndia won by 60 runsNassau County International Cricket Stadium, East MeadowUmpires: Chris Brown (NZ) and Richard Kettleborough (Eng)\\\\n\\\\nIndia won the toss and elected to bat.\"}]'}], 'role': 'tool', 'name': 'User'}, {'content': 'Question: Who won the T20 cricket World Cup in 2024  \\nThought: I should look up the winner of the 2024 ICC Men’s T20 World Cup.  \\nAction: search_tool  \\nAction Input: {\"query\": \"2024 ICC Men\\'s T20 World Cup winner\"}  \\nObservation: The final was played between India and South Africa on 29 June 2024 at Kensington Oval, Bridgetown. India batted first and scored 176/7; South Africa managed 169/8. India won by 7 runs.  \\nThought: I now know the final answer.  \\nFinal Answer: India.', 'role': 'user', 'name': 'Assistant'}], summary='Question: Who won the T20 cricket World Cup in 2024  \\nThought: I should look up the winner of the 2024 ICC Men’s T20 World Cup.  \\nAction: search_tool  \\nAction Input: {\"query\": \"2024 ICC Men\\'s T20 World Cup winner\"}  \\nObservation: The final was played between India and South Africa on 29 June 2024 at Kensington Oval, Bridgetown. India batted first and scored 176/7; South Africa managed 169/8. India won by 7 runs.  \\nThought: I now know the final answer.  \\nFinal Answer: India.', cost={'usage_including_cached_inference': {'total_cost': 0, 'o4-mini': {'cost': 0, 'prompt_tokens': 1535, 'completion_tokens': 496, 'total_tokens': 2031}}, 'usage_excluding_cached_inference': {'total_cost': 0, 'o4-mini': {'cost': 0, 'prompt_tokens': 1535, 'completion_tokens': 496, 'total_tokens': 2031}}}, human_input=['', 'exit'])"
            ]
          },
          "metadata": {},
          "execution_count": 24
        }
      ]
    },
    {
      "cell_type": "code",
      "source": [],
      "metadata": {
        "id": "RrspnUFp06aW"
      },
      "execution_count": null,
      "outputs": []
    },
    {
      "cell_type": "code",
      "source": [],
      "metadata": {
        "id": "JdN8NPHx_8VA"
      },
      "execution_count": null,
      "outputs": []
    }
  ]
}