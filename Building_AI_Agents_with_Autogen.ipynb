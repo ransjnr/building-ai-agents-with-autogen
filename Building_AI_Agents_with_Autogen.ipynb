{
  "nbformat": 4,
  "nbformat_minor": 0,
  "metadata": {
    "colab": {
      "provenance": [],
      "authorship_tag": "ABX9TyMHfU3Smpe+bFn8KoPGUUpu",
      "include_colab_link": true
    },
    "kernelspec": {
      "name": "python3",
      "display_name": "Python 3"
    },
    "language_info": {
      "name": "python"
    }
  },
  "cells": [
    {
      "cell_type": "markdown",
      "metadata": {
        "id": "view-in-github",
        "colab_type": "text"
      },
      "source": [
        "<a href=\"https://colab.research.google.com/github/ransjnr/building-ai-agents-with-autogen/blob/main/Building_AI_Agents_with_Autogen.ipynb\" target=\"_parent\"><img src=\"https://colab.research.google.com/assets/colab-badge.svg\" alt=\"Open In Colab\"/></a>"
      ]
    },
    {
      "cell_type": "code",
      "source": [
        "!pip install pyautogen"
      ],
      "metadata": {
        "colab": {
          "base_uri": "https://localhost:8080/"
        },
        "collapsed": true,
        "id": "quT4tbCspMB9",
        "outputId": "df7066f1-50c2-45eb-9340-54dc6875ab85"
      },
      "execution_count": null,
      "outputs": [
        {
          "output_type": "stream",
          "name": "stdout",
          "text": [
            "Collecting pyautogen\n",
            "  Downloading pyautogen-0.9.0-py3-none-any.whl.metadata (34 kB)\n",
            "Requirement already satisfied: anyio<5.0.0,>=3.0.0 in /usr/local/lib/python3.11/dist-packages (from pyautogen) (4.9.0)\n",
            "Collecting asyncer==0.0.8 (from pyautogen)\n",
            "  Downloading asyncer-0.0.8-py3-none-any.whl.metadata (6.7 kB)\n",
            "Collecting diskcache (from pyautogen)\n",
            "  Downloading diskcache-5.6.3-py3-none-any.whl.metadata (20 kB)\n",
            "Collecting docker (from pyautogen)\n",
            "  Downloading docker-7.1.0-py3-none-any.whl.metadata (3.8 kB)\n",
            "Requirement already satisfied: httpx<1,>=0.28.1 in /usr/local/lib/python3.11/dist-packages (from pyautogen) (0.28.1)\n",
            "Requirement already satisfied: packaging in /usr/local/lib/python3.11/dist-packages (from pyautogen) (24.2)\n",
            "Requirement already satisfied: pydantic<3,>=2.6.1 in /usr/local/lib/python3.11/dist-packages (from pyautogen) (2.11.4)\n",
            "Collecting python-dotenv (from pyautogen)\n",
            "  Downloading python_dotenv-1.1.0-py3-none-any.whl.metadata (24 kB)\n",
            "Requirement already satisfied: termcolor in /usr/local/lib/python3.11/dist-packages (from pyautogen) (3.1.0)\n",
            "Collecting tiktoken (from pyautogen)\n",
            "  Downloading tiktoken-0.9.0-cp311-cp311-manylinux_2_17_x86_64.manylinux2014_x86_64.whl.metadata (6.7 kB)\n",
            "Requirement already satisfied: idna>=2.8 in /usr/local/lib/python3.11/dist-packages (from anyio<5.0.0,>=3.0.0->pyautogen) (3.10)\n",
            "Requirement already satisfied: sniffio>=1.1 in /usr/local/lib/python3.11/dist-packages (from anyio<5.0.0,>=3.0.0->pyautogen) (1.3.1)\n",
            "Requirement already satisfied: typing_extensions>=4.5 in /usr/local/lib/python3.11/dist-packages (from anyio<5.0.0,>=3.0.0->pyautogen) (4.13.2)\n",
            "Requirement already satisfied: certifi in /usr/local/lib/python3.11/dist-packages (from httpx<1,>=0.28.1->pyautogen) (2025.4.26)\n",
            "Requirement already satisfied: httpcore==1.* in /usr/local/lib/python3.11/dist-packages (from httpx<1,>=0.28.1->pyautogen) (1.0.9)\n",
            "Requirement already satisfied: h11>=0.16 in /usr/local/lib/python3.11/dist-packages (from httpcore==1.*->httpx<1,>=0.28.1->pyautogen) (0.16.0)\n",
            "Requirement already satisfied: annotated-types>=0.6.0 in /usr/local/lib/python3.11/dist-packages (from pydantic<3,>=2.6.1->pyautogen) (0.7.0)\n",
            "Requirement already satisfied: pydantic-core==2.33.2 in /usr/local/lib/python3.11/dist-packages (from pydantic<3,>=2.6.1->pyautogen) (2.33.2)\n",
            "Requirement already satisfied: typing-inspection>=0.4.0 in /usr/local/lib/python3.11/dist-packages (from pydantic<3,>=2.6.1->pyautogen) (0.4.0)\n",
            "Requirement already satisfied: requests>=2.26.0 in /usr/local/lib/python3.11/dist-packages (from docker->pyautogen) (2.32.3)\n",
            "Requirement already satisfied: urllib3>=1.26.0 in /usr/local/lib/python3.11/dist-packages (from docker->pyautogen) (2.4.0)\n",
            "Requirement already satisfied: regex>=2022.1.18 in /usr/local/lib/python3.11/dist-packages (from tiktoken->pyautogen) (2024.11.6)\n",
            "Requirement already satisfied: charset-normalizer<4,>=2 in /usr/local/lib/python3.11/dist-packages (from requests>=2.26.0->docker->pyautogen) (3.4.1)\n",
            "Downloading pyautogen-0.9.0-py3-none-any.whl (781 kB)\n",
            "\u001b[2K   \u001b[90m━━━━━━━━━━━━━━━━━━━━━━━━━━━━━━━━━━━━━━━━\u001b[0m \u001b[32m781.7/781.7 kB\u001b[0m \u001b[31m16.6 MB/s\u001b[0m eta \u001b[36m0:00:00\u001b[0m\n",
            "\u001b[?25hDownloading asyncer-0.0.8-py3-none-any.whl (9.2 kB)\n",
            "Downloading diskcache-5.6.3-py3-none-any.whl (45 kB)\n",
            "\u001b[2K   \u001b[90m━━━━━━━━━━━━━━━━━━━━━━━━━━━━━━━━━━━━━━━━\u001b[0m \u001b[32m45.5/45.5 kB\u001b[0m \u001b[31m3.1 MB/s\u001b[0m eta \u001b[36m0:00:00\u001b[0m\n",
            "\u001b[?25hDownloading docker-7.1.0-py3-none-any.whl (147 kB)\n",
            "\u001b[2K   \u001b[90m━━━━━━━━━━━━━━━━━━━━━━━━━━━━━━━━━━━━━━━━\u001b[0m \u001b[32m147.8/147.8 kB\u001b[0m \u001b[31m11.7 MB/s\u001b[0m eta \u001b[36m0:00:00\u001b[0m\n",
            "\u001b[?25hDownloading python_dotenv-1.1.0-py3-none-any.whl (20 kB)\n",
            "Downloading tiktoken-0.9.0-cp311-cp311-manylinux_2_17_x86_64.manylinux2014_x86_64.whl (1.2 MB)\n",
            "\u001b[2K   \u001b[90m━━━━━━━━━━━━━━━━━━━━━━━━━━━━━━━━━━━━━━━━\u001b[0m \u001b[32m1.2/1.2 MB\u001b[0m \u001b[31m37.8 MB/s\u001b[0m eta \u001b[36m0:00:00\u001b[0m\n",
            "\u001b[?25hInstalling collected packages: python-dotenv, diskcache, tiktoken, docker, asyncer, pyautogen\n",
            "Successfully installed asyncer-0.0.8 diskcache-5.6.3 docker-7.1.0 pyautogen-0.9.0 python-dotenv-1.1.0 tiktoken-0.9.0\n"
          ]
        }
      ]
    },
    {
      "cell_type": "code",
      "source": [
        "import autogen\n",
        "import os\n",
        "import openai\n",
        "from openai import AzureOpenAI\n",
        "from google.colab import userdata"
      ],
      "metadata": {
        "id": "A0RpNTrGAVYA"
      },
      "execution_count": null,
      "outputs": []
    },
    {
      "cell_type": "markdown",
      "source": [
        "##Setting up credentials"
      ],
      "metadata": {
        "id": "wWxAn-onyqrs"
      }
    },
    {
      "cell_type": "code",
      "source": [
        "endpoint = userdata.get(\"AZURE_OPENAI_ENDPOINT\")\n",
        "model_name = \"o4-mini\"\n",
        "deployment = \"o4-mini-deployment\"\n",
        "\n",
        "subscription_key = userdata.get(\"AZURE_OPENAI_KEY\")\n",
        "api_version = \"2024-12-01-preview\""
      ],
      "metadata": {
        "id": "0BF9NxFJwyLo"
      },
      "execution_count": null,
      "outputs": []
    },
    {
      "cell_type": "markdown",
      "source": [
        "##This sample demonstrates a basic call to the chat completion API"
      ],
      "metadata": {
        "id": "m641K7X2vZUu"
      }
    },
    {
      "cell_type": "code",
      "source": [
        "\n",
        "\n",
        "client = AzureOpenAI(\n",
        "    api_version=api_version,\n",
        "    azure_endpoint=endpoint,\n",
        "    api_key=subscription_key,\n",
        ")\n",
        "\n",
        "response = client.chat.completions.create(\n",
        "    messages=[\n",
        "        {\n",
        "            \"role\": \"system\",\n",
        "            \"content\": \"You are a helpful assistant.\",\n",
        "        },\n",
        "        {\n",
        "            \"role\": \"user\",\n",
        "            \"content\": \"I am going to Paris, what should I see?\",\n",
        "        }\n",
        "    ],\n",
        "    max_completion_tokens=100000,\n",
        "    model=deployment\n",
        ")\n",
        "\n",
        "print(response.choices[0].message.content)"
      ],
      "metadata": {
        "colab": {
          "base_uri": "https://localhost:8080/"
        },
        "collapsed": true,
        "id": "IKKA9BG5pHua",
        "outputId": "a589355c-9830-4ca3-da7c-88ffd4cebe59"
      },
      "execution_count": null,
      "outputs": [
        {
          "output_type": "stream",
          "name": "stdout",
          "text": [
            "Here’s a mix of must-see landmarks, museums, neighborhoods and experiences to help you make the most of your time in Paris:\n",
            "\n",
            "1. Eiffel Tower  \n",
            "  • Go up at dawn or dusk (fewer crowds, incredible light)  \n",
            "  • Picnic on the Champ de Mars lawn at sunset  \n",
            "\n",
            "2. Louvre Museum  \n",
            "  • Home to the Mona Lisa, Venus de Milo, thousands more  \n",
            "  • Pre-book tickets; focus on one wing (Denon, Sully or Richelieu)  \n",
            "\n",
            "3. Île de la Cité & Île Saint-Louis  \n",
            "  • Notre-Dame Cathedral exterior (restoration ongoing)  \n",
            "  • Sainte-Chapelle’s stained-glass jewel-box interior  \n",
            "  • Stroll rue Saint-Louis en l’Île—famous Berthillon ice cream  \n",
            "\n",
            "4. Musée d’Orsay  \n",
            "  • Impressionist masterpieces by Monet, Renoir, Van Gogh  \n",
            "  • Housed in a Beaux-Arts former railway station  \n",
            "\n",
            "5. Montmartre & Sacré-Cœur  \n",
            "  • Wander the winding streets, Place du Tertre painters  \n",
            "  • Panoramic view from Sacré-Cœur Basilica steps  \n",
            "  • Hidden vineyard (Clos Montmartre)  \n",
            "\n",
            "6. Champs-Élysées & Arc de Triomphe  \n",
            "  • Walk or bike the boulevards from Place de la Concorde  \n",
            "  • Climb Arc de Triomphe for 360° city views  \n",
            "\n",
            "7. Le Marais  \n",
            "  • Medieval streets, boutiques, galleries  \n",
            "  • Musée Carnavalet (history of Paris) and Picasso Museum  \n",
            "  • Lively Jewish quarter—try falafel on rue des Rosiers  \n",
            "\n",
            "8. Latin Quarter & Saint-Germain-des-Prés  \n",
            "  • Sorbonne surrounds, narrow lanes, cafés  \n",
            "  • Panthéon, Luxembourg Gardens (ideal for people-watching)  \n",
            "  • Legendary cafés: Café de Flore, Les Deux Magots  \n",
            "\n",
            "9. Seine Riverside & Boat Cruise  \n",
            "  • Bateaux-Mouches sightseeing cruise at twilight  \n",
            "  • Walk the “quais” (banks)—browse bouquinistes’ second-hand books  \n",
            "\n",
            "10. Palace of Versailles (day-trip)  \n",
            "  • The Hall of Mirrors, vast gardens, Trianon estates  \n",
            "  • Rent a bike or golf cart to cover more ground  \n",
            "\n",
            "Bonus/Off-beat Gems  \n",
            "  • Canal Saint-Martin: trendy bars, laid-back canal strolls  \n",
            "  • Parc des Buttes-Chaumont or Parc Monceau for local park life  \n",
            "  • Musée de l’Orangerie (Monet’s Water Lilies)  \n",
            "  • Fondation Louis Vuitton for contemporary art & Frank Gehry architecture  \n",
            "  • Marché d’Aligre or Marché Bastille for market-fresh produce & antiques  \n",
            "\n",
            "Tips  \n",
            "  • Metro is fast—get a carnet of 10 t+ tickets or a Paris Visite pass  \n",
            "  • Many museums closed one weekday (Louvre closed Tuesday; Orsay Monday)  \n",
            "  • Buy skip-the-line or timed-entry tickets online in advance  \n",
            "  • Embrace “flâner” (leisurely strolling)—often the best discoveries happen off the beaten path  \n",
            "\n",
            "Enjoy your trip—bon voyage!\n"
          ]
        }
      ]
    },
    {
      "cell_type": "markdown",
      "source": [
        "##Configuring LLM"
      ],
      "metadata": {
        "id": "-4PCqvgGvclY"
      }
    },
    {
      "cell_type": "code",
      "source": [
        "llm_config = {\n",
        "    \"config_list\": [\n",
        "        {\n",
        "            \"model\": deployment,\n",
        "            \"base_url\": endpoint,\n",
        "            \"api_type\": \"azure\",\n",
        "            \"api_key\": subscription_key,\n",
        "            \"api_version\": api_version,\n",
        "        }\n",
        "    ]\n",
        "}"
      ],
      "metadata": {
        "id": "2fr5RTMHveJa"
      },
      "execution_count": null,
      "outputs": []
    },
    {
      "cell_type": "markdown",
      "source": [
        "##Basic chatbot agent with autogen"
      ],
      "metadata": {
        "id": "b0cI0Pym-odS"
      }
    },
    {
      "cell_type": "code",
      "source": [
        "from autogen import ConversableAgent\n",
        "\n",
        "##create a conversable agent\n",
        "agent = ConversableAgent(\n",
        "    name=\"chatbot\",\n",
        "    llm_config=llm_config,\n",
        "    human_input_mode=\"NEVER\"\n",
        ")"
      ],
      "metadata": {
        "id": "lRNHpPoHxFEL"
      },
      "execution_count": null,
      "outputs": []
    },
    {
      "cell_type": "code",
      "source": [
        "## generating reply from the agent\n",
        "reply = agent.generate_reply(\n",
        "    messages=[\n",
        "        {\n",
        "            \"role\": \"user\",\n",
        "            \"content\": \"I am going to Paris, what should I see?\",\n",
        "        }\n",
        "    ],\n",
        "    )\n",
        "print(reply)"
      ],
      "metadata": {
        "colab": {
          "base_uri": "https://localhost:8080/"
        },
        "id": "Bc4ikNX2xZFR",
        "outputId": "3d737dcc-71ae-4128-c688-abf23a04ab68",
        "collapsed": true
      },
      "execution_count": null,
      "outputs": [
        {
          "output_type": "stream",
          "name": "stdout",
          "text": [
            "[autogen.oai.client: 05-12 02:13:21] {696} WARNING - Model o4-mini-2025-04-16 is not found. The cost will be 0. In your config_list, add field {\"price\" : [prompt_price_per_1k, completion_token_price_per_1k]} for customized pricing.\n"
          ]
        },
        {
          "output_type": "stream",
          "name": "stderr",
          "text": [
            "WARNING:autogen.oai.client:Model o4-mini-2025-04-16 is not found. The cost will be 0. In your config_list, add field {\"price\" : [prompt_price_per_1k, completion_token_price_per_1k]} for customized pricing.\n"
          ]
        },
        {
          "output_type": "stream",
          "name": "stdout",
          "text": [
            "Here’s a mix of Paris’s “can’t-miss” highlights plus a few off-the-beaten-track ideas—organized by category—to help you plan your visit.\n",
            "\n",
            "1. Iconic Monuments & Panoramas  \n",
            " • Eiffel Tower (Champ de Mars): book “skip-the-line” tickets in advance—sunset and night-time illuminations are magical.  \n",
            " • Arc de Triomphe & Champs-Élysées: climb the Arc for a 360° view down Paris’s grandest avenue.  \n",
            " • Notre-Dame Cathedral (Île de la Cité): while restoration continues, you can still admire its façade and explore nearby Sainte-Chapelle’s stained glass.  \n",
            " • Sacré-Cœur & Montmartre: explore the winding streets, Place du Tertre artists’ square, and enjoy one of the best hilltop views over Paris.\n",
            "\n",
            "2. World-Class Museums  \n",
            " • Louvre: home to the Mona Lisa, Venus de Milo, and ancient collections—plan at least half a day, or join a highlights tour.  \n",
            " • Musée d’Orsay: housed in a former railway station, it’s the best place to see Impressionist masterpieces by Monet, Renoir, Van Gogh.  \n",
            " • Centre Pompidou: modern and contemporary art in a high-tech building, plus great city views from the top floor.  \n",
            " • Musée Rodin or Musée de l’Orangerie: for a more intimate experience—Rodin’s lush gardens and “Water Lilies” in the Tuileries.\n",
            "\n",
            "3. Charming Neighborhoods  \n",
            " • Le Marais: medieval streets, Jewish Quarter, boutique shops and cool cafés. Don’t miss Place des Vosges and the Carnavalet Museum (Paris history).  \n",
            " • Latin Quarter / Saint-Germain-des-Prés: bohemian cafés (Café de Flore, Les Deux Magots), narrow lanes, and the Panthéon.  \n",
            " • Canal Saint-Martin: trendy cafés, iron footbridges, and waterside strolls—perfect for a picnic.\n",
            "\n",
            "4. Green Spaces & Strolls  \n",
            " • Jardin du Luxembourg: formal gardens, statues, and a peaceful pond—ideal for people-watching.  \n",
            " • Tuileries Garden: between the Louvre and Place de la Concorde.  \n",
            " • Promenade Plantée (Coulée Verte): an elevated park built on a former railway viaduct—precursor to New York’s High Line.  \n",
            " • Banks of the Seine: browse the “bouquinistes” (green bookstalls) and consider an evening bateau-mouche cruise.\n",
            "\n",
            "5. Unique Experiences & Hidden Gems  \n",
            " • Marché d’Aligre or Marché Bastille: colorful food markets—great for sampling cheese, charcuterie, pastries.  \n",
            " • Covered passages (Passages Couverts): Galerie Vivienne, Passage des Panoramas—19th-century shopping arcades full of charm and specialty shops.  \n",
            " • Catacombs of Paris: book ahead for a guided tour of the underground ossuaries (not for the claustrophobic!).  \n",
            " • Musée des Arts et Métiers: quirky inventions museum with historic French engineering marvels.\n",
            "\n",
            "6. Day-Trip Ideas  \n",
            " • Palace of Versailles: the Hall of Mirrors, formal gardens, and the Trianon estates—aim for an early start or late-afternoon visit to avoid crowds.  \n",
            " • Giverny: Monet’s house and gardens (spring–summer only)—book your train or bus ticket in advance.  \n",
            " • Fontainebleau: the chateau and forest are perfect for hiking or rock-climbing enthusiasts.\n",
            "\n",
            "Sample 3-Day Outline  \n",
            "Day 1: Eiffel Tower → Seine cruise → Musée d’Orsay → Latin Quarter dinner  \n",
            "Day 2: Louvre (morning) → Tuileries → Place de la Concorde → Champs-Élysées & Arc de Triomphe → evening in Montmartre  \n",
            "Day 3: Le Marais (Picasso Museum or Carnavalet) → Pompidou Center → afternoon markets/Passages → sunset at Sacré-Cœur\n",
            "\n",
            "Tips  \n",
            "• Buy museum and monument tickets online in advance to skip long queues.  \n",
            "• Get a Paris Visite pass or Mobilis ticket for unlimited metro/bus travel, or use single t+ tickets if you’re only doing a couple of rides per day.  \n",
            "• Try a food tour or cooking class for an immersive taste of Parisian cuisine.  \n",
            "• Wear comfortable shoes—Paris’s charm is best discovered on foot!  \n",
            "\n",
            "Enjoy your trip—Paris always has something new to reveal around every corner. Bon voyage !\n"
          ]
        }
      ]
    },
    {
      "cell_type": "code",
      "source": [
        "## generating reply from the agent\n",
        "reply = agent.generate_reply(\n",
        "    messages=[\n",
        "        {\n",
        "            \"role\": \"user\",\n",
        "            \"content\": \"How to make delicious ramen?\",\n",
        "        }\n",
        "    ],\n",
        "    )\n",
        "print(reply)"
      ],
      "metadata": {
        "id": "ar88KbMVxzK3",
        "colab": {
          "base_uri": "https://localhost:8080/"
        },
        "collapsed": true,
        "outputId": "42520f13-4428-41d4-f2ab-4f09d8f43310"
      },
      "execution_count": null,
      "outputs": [
        {
          "output_type": "stream",
          "name": "stdout",
          "text": [
            "[autogen.oai.client: 05-12 00:10:33] {696} WARNING - Model o4-mini-2025-04-16 is not found. The cost will be 0. In your config_list, add field {\"price\" : [prompt_price_per_1k, completion_token_price_per_1k]} for customized pricing.\n"
          ]
        },
        {
          "output_type": "stream",
          "name": "stderr",
          "text": [
            "WARNING:autogen.oai.client:Model o4-mini-2025-04-16 is not found. The cost will be 0. In your config_list, add field {\"price\" : [prompt_price_per_1k, completion_token_price_per_1k]} for customized pricing.\n"
          ]
        },
        {
          "output_type": "stream",
          "name": "stdout",
          "text": [
            "Here’s a step‐by‐step guide to making a classic, restaurant-style Shoyu (soy-sauce) Ramen at home. It breaks down into four parts: broth, tare (seasoning sauce), noodles & toppings, and assembly.\n",
            "\n",
            "1. Broth (makes about 6–8 bowls)  \n",
            " Ingredients:  \n",
            " • 2 lb (1 kg) chicken backs or wings  \n",
            " • 1 lb (500 g) pork neck bones or trotters (optional for extra richness)  \n",
            " • 1 onion, halved  \n",
            " • 1 large carrot, roughly chopped  \n",
            " • 4 – 5 garlic cloves, smashed  \n",
            " • 1 thumb-size piece of ginger, sliced  \n",
            " • 1 sheet kombu (dried kelp, ~4×4\")  \n",
            " • 2 cups dried bonito flakes (katsuobushi) or ½ cup dried shiitake + ½ cup bonito  \n",
            " • Water to cover  \n",
            "\n",
            " Steps:  \n",
            " a. Blanch bones: Cover bones with cold water in a large pot, bring to a boil 5 min, drain and rinse bones & pot.  \n",
            " b. Make stock: Return bones to pot, add onion, carrot, garlic, ginger. Cover with 3 – 4 qts (3 – 4 L) cold water. Simmer gently (no rolling boil) 4–6 hours, skimming foam occasionally.  \n",
            " c. Add kombu during last 30 min (remove just before serving if you want clean flavor).  \n",
            " d. In the last 5 min, stir in bonito flakes (or rehydrated mushrooms). Quickly strain broth through a fine sieve or cheesecloth into a clean pot. Keep hot.\n",
            "\n",
            "2. Tare (bowl seasoning)  \n",
            " This concentrated sauce gives each bowl its distinctive flavor. Store extra in the fridge.  \n",
            " Basic shoyu tare (makes ~1 cup):  \n",
            " • ½ cup high-quality soy sauce  \n",
            " • 2 Tbsp mirin  \n",
            " • 2 Tbsp sake  \n",
            " • 1 Tbsp dark soy or sweet soy (optional, for color/depth)  \n",
            " • 1 Tbsp sugar  \n",
            " • 1 garlic clove, smashed  \n",
            " • ½″ ginger, sliced  \n",
            "\n",
            " Combine in a small pot and heat to a simmer just until sugar dissolves and alcohol cooks off (2–3 min). Cool, then discard solids or strain.\n",
            "\n",
            "3. Noodles & Toppings  \n",
            " A. Noodles  \n",
            " • Fresh alkaline ramen noodles (local Asian market) or good-quality dried instant ramen (discard seasoning). Cook in rapidly boiling water 1 – 2 min until just tender. Drain and rinse briefly under hot water to remove excess starch.  \n",
            "\n",
            " B. Classic toppings (per bowl):  \n",
            " • Chashu pork: braised pork belly rolled & sliced  \n",
            " • Ajitsuke tamago: soft-boiled eggs marinated in sweet soy (tare + water) 4 hrs  \n",
            " • Menma (seasoned bamboo shoots)  \n",
            " • Nori (roasted seaweed sheets)  \n",
            " • Thinly sliced scallions (green parts)  \n",
            " • Bean sprouts or baby spinach (blanched)  \n",
            " • Narutomaki or corn kernels (optional)  \n",
            "\n",
            "4. Assembly (per serving)  \n",
            " 1. Warm a deep soup bowl by rinsing with hot water.  \n",
            " 2. Add 2 – 3 Tbsp tare to bowl (adjust to taste).  \n",
            " 3. Ladle in ~16 oz (475 ml) hot broth; taste and adjust seasoning.  \n",
            " 4. Nestle in cooked noodles.  \n",
            " 5. Arrange toppings artfully: 2–3 slices chashu, halved egg, menma, greens, nori at the back, sprinkle scallions last.  \n",
            " 6. (Optional) Drizzle chili oil or sesame oil for extra aroma.\n",
            "\n",
            "Tips for Extra Depth  \n",
            " • Umami Boosters: A spoonful of miso, a few drops of fish sauce or oyster sauce can add complexity.  \n",
            " • Aromatics: Finish each bowl with a drop of garlic oil (mayu) or chili crisp.  \n",
            " • Texture: Dust with toasted sesame seeds or black pepper.  \n",
            " • Broth Shortcut: If you’re short on time, start with a high-quality store-bought chicken stock, add a piece of kombu & handful of bonito flakes, simmer 20 min, then proceed with tare and assembly.\n",
            "\n",
            "Enjoy your homemade ramen—once you nail the broth + tare ratio, you can customize endlessly!\n"
          ]
        }
      ]
    },
    {
      "cell_type": "code",
      "source": [],
      "metadata": {
        "id": "7LzpPe5H1Ar9"
      },
      "execution_count": null,
      "outputs": []
    },
    {
      "cell_type": "markdown",
      "source": [
        "##Multi Agent Conversation"
      ],
      "metadata": {
        "id": "UzE0JaZs-szV"
      }
    },
    {
      "cell_type": "markdown",
      "source": [
        "###Conversation between student and tutor agent"
      ],
      "metadata": {
        "id": "o2OK6CtoAS-t"
      }
    },
    {
      "cell_type": "code",
      "source": [
        "# Create a student agent\n",
        "import autogen\n",
        "from autogen import ConversableAgent\n",
        "\n",
        "student = ConversableAgent (\n",
        "    \"student\",\n",
        "    system_message = \"You are a high school student struggling with algebra. You need help understanding quadratic equations.\",\n",
        "    llm_config = llm_config,\n",
        "    human_input_mode=\"NEVER\"\n",
        ")"
      ],
      "metadata": {
        "id": "scDsSaoRAQPb"
      },
      "execution_count": null,
      "outputs": []
    },
    {
      "cell_type": "code",
      "source": [
        "# Create a tutor agent\n",
        "tutor = ConversableAgent(\n",
        "    \"tutor\",\n",
        "    system_message=\"You are a patient and knowledgeable math tutor. Your goal is to help students understand algebra concepts, particularly quadratic equations.\",\n",
        "    llm_config=llm_config,\n",
        "    human_input_mode=\"NEVER\"\n",
        ")"
      ],
      "metadata": {
        "id": "1tOp1d3zQO0X"
      },
      "execution_count": null,
      "outputs": []
    },
    {
      "cell_type": "code",
      "source": [
        "## start a learning session\n",
        "result = student.initiate_chat(\n",
        "    recipient=tutor,\n",
        "    message= \"I'm really struggling with quadratic equations. Can you help me understand them better?\",\n",
        "    max_turns=2\n",
        ")"
      ],
      "metadata": {
        "colab": {
          "base_uri": "https://localhost:8080/"
        },
        "collapsed": true,
        "id": "YQsw3rFBSK0a",
        "outputId": "4d393a86-6975-4ab5-fe84-9b406d57493d"
      },
      "execution_count": null,
      "outputs": [
        {
          "output_type": "stream",
          "name": "stdout",
          "text": [
            "student (to tutor):\n",
            "\n",
            "I'm really struggling with quadratic equations. Can you help me understand them better?\n",
            "\n",
            "--------------------------------------------------------------------------------\n",
            "[autogen.oai.client: 05-12 02:49:51] {696} WARNING - Model o4-mini-2025-04-16 is not found. The cost will be 0. In your config_list, add field {\"price\" : [prompt_price_per_1k, completion_token_price_per_1k]} for customized pricing.\n"
          ]
        },
        {
          "output_type": "stream",
          "name": "stderr",
          "text": [
            "WARNING:autogen.oai.client:Model o4-mini-2025-04-16 is not found. The cost will be 0. In your config_list, add field {\"price\" : [prompt_price_per_1k, completion_token_price_per_1k]} for customized pricing.\n"
          ]
        },
        {
          "output_type": "stream",
          "name": "stdout",
          "text": [
            "tutor (to student):\n",
            "\n",
            "Absolutely—let’s build your understanding step by step.\n",
            "\n",
            "1. What Is a Quadratic Equation?  \n",
            "   • A quadratic equation is any equation you can write in the form  \n",
            "      ax² + bx + c = 0  \n",
            "     where a, b, c are numbers and a ≠ 0.  \n",
            "   • Its graph is a parabola (a “U” shape). The solutions (roots) are the x-values where it crosses the x-axis.\n",
            "\n",
            "2. Identifying a, b, and c  \n",
            "   In ax² + bx + c = 0:  \n",
            "   • a is the coefficient of x²  \n",
            "   • b is the coefficient of x  \n",
            "   • c is the constant term  \n",
            "   Example: For 2x² – 3x + 5 = 0, a = 2, b = –3, c = 5.\n",
            "\n",
            "3. Three Main Methods for Solving\n",
            "\n",
            " a) Factoring  \n",
            "   • Best when ax² + bx + c factors neatly into (dx + e)(fx + g) = 0.  \n",
            "   • Example: x² + 5x + 6 = 0  \n",
            "     – Factor: (x + 2)(x + 3) = 0  \n",
            "     – So x + 2 = 0 ⇒ x = –2, and x + 3 = 0 ⇒ x = –3  \n",
            "\n",
            " b) Completing the Square  \n",
            "   • Turn ax² + bx + c into (x + p)² = q, then solve.  \n",
            "   • Example: x² + 4x + 1 = 0  \n",
            "     1. Move 1 over: x² + 4x = –1  \n",
            "     2. Add (b/2)² = (4/2)² = 4 to both sides:  \n",
            "        x² + 4x + 4 = –1 + 4 → (x + 2)² = 3  \n",
            "     3. Solve: x + 2 = ±√3 ⇒ x = –2 ± √3  \n",
            "\n",
            " c) Quadratic Formula  \n",
            "   • Always works. Derivation comes from completing the square in general.  \n",
            "   • Formula:  x = [–b ± √(b² – 4ac)] / (2a)  \n",
            "   • Discriminant D = b² – 4ac tells you how many real roots:  \n",
            "     – D > 0 → two real roots  \n",
            "     – D = 0 → one real (repeated) root  \n",
            "     – D < 0 → two complex roots  \n",
            "\n",
            "   Example: Solve 3x² + x – 4 = 0  \n",
            "   • a = 3, b = 1, c = –4  \n",
            "   • D = 1² – 4·3·(–4) = 1 + 48 = 49  \n",
            "   • x = [–1 ± √49] / (2·3) = [–1 ± 7] / 6  \n",
            "     – x = (–1 + 7)/6 = 6/6 = 1  \n",
            "     – x = (–1 – 7)/6 = –8/6 = –4/3  \n",
            "\n",
            "4. Visual Insight  \n",
            "   • The vertex of ax² + bx + c is at x = –b/(2a). That’s the parabola’s “turning point.”  \n",
            "   • If a > 0, the parabola opens upward; if a < 0, it opens downward.  \n",
            "\n",
            "5. Quick Checklist When You See a Quadratic  \n",
            "   1. Write it in standard form ax² + bx + c = 0.  \n",
            "   2. Identify a, b, c.  \n",
            "   3. Check if it factors easily.  \n",
            "   4. If not, decide between completing the square or using the quadratic formula.  \n",
            "   5. Compute the discriminant to know what to expect.  \n",
            "\n",
            "6. Practice Problem  \n",
            "   Solve 2x² – 7x + 3 = 0.  \n",
            "   Step 1: a=2, b=–7, c=3 → D = (–7)² – 4·2·3 = 49 – 24 = 25  \n",
            "   Step 2: x = [7 ± √25] / (2·2) = [7 ± 5] / 4  \n",
            "     • x₁ = (7 + 5)/4 = 12/4 = 3  \n",
            "     • x₂ = (7 – 5)/4 = 2/4 = 1/2  \n",
            "\n",
            "   Try it yourself and check each step!\n",
            "\n",
            "7. Next Steps  \n",
            "   • Work a few problems of each type to build confidence.  \n",
            "   • If a particular step feels unclear, let me know, and we’ll dig deeper into that method.  \n",
            "\n",
            "Feel free to share a specific quadratic you’re stuck on, and we can solve it together.\n",
            "\n",
            "--------------------------------------------------------------------------------\n",
            "[autogen.oai.client: 05-12 02:50:10] {696} WARNING - Model o4-mini-2025-04-16 is not found. The cost will be 0. In your config_list, add field {\"price\" : [prompt_price_per_1k, completion_token_price_per_1k]} for customized pricing.\n"
          ]
        },
        {
          "output_type": "stream",
          "name": "stderr",
          "text": [
            "WARNING:autogen.oai.client:Model o4-mini-2025-04-16 is not found. The cost will be 0. In your config_list, add field {\"price\" : [prompt_price_per_1k, completion_token_price_per_1k]} for customized pricing.\n"
          ]
        },
        {
          "output_type": "stream",
          "name": "stdout",
          "text": [
            "student (to tutor):\n",
            "\n",
            "Do you have a particular quadratic in mind that you’d like to work through? If so, send it over and we’ll solve it together step by step.\n",
            "\n",
            "If not, let’s pick one as practice. For example:  \n",
            "  2x² – 7x + 3 = 0  \n",
            "\n",
            "1. Identify a, b, c:  \n",
            "   a = 2, b = –7, c = 3  \n",
            "\n",
            "2. Compute the discriminant D = b² – 4ac:  \n",
            "   D = (–7)² – 4·2·3 = 49 – 24 = 25  \n",
            "\n",
            "3. Plug into the quadratic formula x = [–b ± √D] / (2a):  \n",
            "   x = [7 ± √25] / (4)  \n",
            "     = [7 ± 5] / 4  \n",
            "\n",
            "   So  \n",
            "   x₁ = (7 + 5)/4 = 12/4 = 3  \n",
            "   x₂ = (7 – 5)/4 = 2/4 = 1/2  \n",
            "\n",
            "Try those steps on your own or share your own equation, and we’ll go through it together!\n",
            "\n",
            "--------------------------------------------------------------------------------\n",
            "[autogen.oai.client: 05-12 02:51:13] {696} WARNING - Model o4-mini-2025-04-16 is not found. The cost will be 0. In your config_list, add field {\"price\" : [prompt_price_per_1k, completion_token_price_per_1k]} for customized pricing.\n"
          ]
        },
        {
          "output_type": "stream",
          "name": "stderr",
          "text": [
            "WARNING:autogen.oai.client:Model o4-mini-2025-04-16 is not found. The cost will be 0. In your config_list, add field {\"price\" : [prompt_price_per_1k, completion_token_price_per_1k]} for customized pricing.\n"
          ]
        },
        {
          "output_type": "stream",
          "name": "stdout",
          "text": [
            "tutor (to student):\n",
            "\n",
            "Let’s pick one to work through together. How about this:\n",
            "\n",
            " Solve x² + 6x + 2 = 0 by completing the square.\n",
            "\n",
            "Step 1: Move the constant to the right side  \n",
            " x² + 6x = –2\n",
            "\n",
            "Step 2: Take half of the x-coefficient (6), square it, and add to both sides  \n",
            " (6/2)² = 3² = 9  \n",
            " x² + 6x + 9 = –2 + 9  \n",
            " ⇒ (x + 3)² = 7\n",
            "\n",
            "Step 3: Take square roots  \n",
            " x + 3 = ±√7\n",
            "\n",
            "Step 4: Solve for x  \n",
            " x = –3 ± √7\n",
            "\n",
            "So the two solutions are x = –3 + √7 and x = –3 – √7.\n",
            "\n",
            "—  \n",
            "Want to double-check by using the quadratic formula or try factoring/formula on a different example? Or send me your own quadratic and we’ll go step by step!\n",
            "\n",
            "--------------------------------------------------------------------------------\n",
            "\n",
            ">>>>>>>> TERMINATING RUN (e992ebaf-af9d-4a2e-a493-29cefb33adc7): Maximum turns (2) reached\n"
          ]
        }
      ]
    },
    {
      "cell_type": "markdown",
      "source": [
        "### Printing Results"
      ],
      "metadata": {
        "id": "H047tvJddzfA"
      }
    },
    {
      "cell_type": "code",
      "source": [
        "import pprint\n",
        "pprint.pprint(result.chat_history)"
      ],
      "metadata": {
        "colab": {
          "base_uri": "https://localhost:8080/"
        },
        "collapsed": true,
        "id": "VF1OCAYCi1g7",
        "outputId": "e5493618-e8d9-4e87-e358-7cd63c42b52d"
      },
      "execution_count": null,
      "outputs": [
        {
          "output_type": "stream",
          "name": "stdout",
          "text": [
            "[{'content': \"I'm really struggling with quadratic equations. Can you help me \"\n",
            "             'understand them better?',\n",
            "  'name': 'student',\n",
            "  'role': 'assistant'},\n",
            " {'content': 'Absolutely—let’s build your understanding step by step.\\n'\n",
            "             '\\n'\n",
            "             '1. What Is a Quadratic Equation?  \\n'\n",
            "             '   • A quadratic equation is any equation you can write in the '\n",
            "             'form  \\n'\n",
            "             '    \\u2003\\u2003ax² + bx + c = 0  \\n'\n",
            "             '     where a, b, c are numbers and a ≠ 0.  \\n'\n",
            "             '   • Its graph is a parabola (a “U” shape). The solutions '\n",
            "             '(roots) are the x-values where it crosses the x-axis.\\n'\n",
            "             '\\n'\n",
            "             '2. Identifying a, b, and c  \\n'\n",
            "             '   In ax² + bx + c = 0:  \\n'\n",
            "             '   • a is the coefficient of x²  \\n'\n",
            "             '   • b is the coefficient of x  \\n'\n",
            "             '   • c is the constant term  \\n'\n",
            "             '   Example: For 2x² – 3x + 5 = 0, a = 2, b = –3, c = 5.\\n'\n",
            "             '\\n'\n",
            "             '3. Three Main Methods for Solving\\n'\n",
            "             '\\n'\n",
            "             ' a) Factoring  \\n'\n",
            "             '   • Best when ax² + bx + c factors neatly into (dx + e)(fx + g) '\n",
            "             '= 0.  \\n'\n",
            "             '   • Example: x² + 5x + 6 = 0  \\n'\n",
            "             '     – Factor: (x + 2)(x + 3) = 0  \\n'\n",
            "             '     – So x + 2 = 0 ⇒ x = –2, and x + 3 = 0 ⇒ x = –3  \\n'\n",
            "             '\\n'\n",
            "             ' b) Completing the Square  \\n'\n",
            "             '   • Turn ax² + bx + c into (x + p)² = q, then solve.  \\n'\n",
            "             '   • Example: x² + 4x + 1 = 0  \\n'\n",
            "             '     1. Move 1 over: x² + 4x = –1  \\n'\n",
            "             '     2. Add (b/2)² = (4/2)² = 4 to both sides:  \\n'\n",
            "             '        x² + 4x + 4 = –1 + 4 → (x + 2)² = 3  \\n'\n",
            "             '     3. Solve: x + 2 = ±√3 ⇒ x = –2 ± √3  \\n'\n",
            "             '\\n'\n",
            "             ' c) Quadratic Formula  \\n'\n",
            "             '   • Always works. Derivation comes from completing the square '\n",
            "             'in general.  \\n'\n",
            "             '   • Formula:  x = [–b ± √(b² – 4ac)] / (2a)  \\n'\n",
            "             '   • Discriminant D = b² – 4ac tells you how many real roots:  \\n'\n",
            "             '     – D > 0 → two real roots  \\n'\n",
            "             '     – D = 0 → one real (repeated) root  \\n'\n",
            "             '     – D < 0 → two complex roots  \\n'\n",
            "             '\\n'\n",
            "             '   Example: Solve 3x² + x – 4 = 0  \\n'\n",
            "             '   • a = 3, b = 1, c = –4  \\n'\n",
            "             '   • D = 1² – 4·3·(–4) = 1 + 48 = 49  \\n'\n",
            "             '   • x = [–1 ± √49] / (2·3) = [–1 ± 7] / 6  \\n'\n",
            "             '     – x = (–1 + 7)/6 = 6/6 = 1  \\n'\n",
            "             '     – x = (–1 – 7)/6 = –8/6 = –4/3  \\n'\n",
            "             '\\n'\n",
            "             '4. Visual Insight  \\n'\n",
            "             '   • The vertex of ax² + bx + c is at x = –b/(2a). That’s the '\n",
            "             'parabola’s “turning point.”  \\n'\n",
            "             '   • If a > 0, the parabola opens upward; if a < 0, it opens '\n",
            "             'downward.  \\n'\n",
            "             '\\n'\n",
            "             '5. Quick Checklist When You See a Quadratic  \\n'\n",
            "             '   1. Write it in standard form ax² + bx + c = 0.  \\n'\n",
            "             '   2. Identify a, b, c.  \\n'\n",
            "             '   3. Check if it factors easily.  \\n'\n",
            "             '   4. If not, decide between completing the square or using the '\n",
            "             'quadratic formula.  \\n'\n",
            "             '   5. Compute the discriminant to know what to expect.  \\n'\n",
            "             '\\n'\n",
            "             '6. Practice Problem  \\n'\n",
            "             '   Solve 2x² – 7x + 3 = 0.  \\n'\n",
            "             '   Step 1: a=2, b=–7, c=3 → D = (–7)² – 4·2·3 = 49 – 24 = 25  \\n'\n",
            "             '   Step 2: x = [7 ± √25] / (2·2) = [7 ± 5] / 4  \\n'\n",
            "             '     • x₁ = (7 + 5)/4 = 12/4 = 3  \\n'\n",
            "             '     • x₂ = (7 – 5)/4 = 2/4 = 1/2  \\n'\n",
            "             '\\n'\n",
            "             '   Try it yourself and check each step!\\n'\n",
            "             '\\n'\n",
            "             '7. Next Steps  \\n'\n",
            "             '   • Work a few problems of each type to build confidence.  \\n'\n",
            "             '   • If a particular step feels unclear, let me know, and we’ll '\n",
            "             'dig deeper into that method.  \\n'\n",
            "             '\\n'\n",
            "             'Feel free to share a specific quadratic you’re stuck on, and we '\n",
            "             'can solve it together.',\n",
            "  'name': 'tutor',\n",
            "  'role': 'user'},\n",
            " {'content': 'Do you have a particular quadratic in mind that you’d like to '\n",
            "             'work through? If so, send it over and we’ll solve it together '\n",
            "             'step by step.\\n'\n",
            "             '\\n'\n",
            "             'If not, let’s pick one as practice. For example:  \\n'\n",
            "             '  2x² – 7x + 3 = 0  \\n'\n",
            "             '\\n'\n",
            "             '1. Identify a, b, c:  \\n'\n",
            "             '   a = 2,\\u2003b = –7,\\u2003c = 3  \\n'\n",
            "             '\\n'\n",
            "             '2. Compute the discriminant D = b² – 4ac:  \\n'\n",
            "             '   D = (–7)² – 4·2·3 = 49 – 24 = 25  \\n'\n",
            "             '\\n'\n",
            "             '3. Plug into the quadratic formula x = [–b ± √D] / (2a):  \\n'\n",
            "             '   x = [7 ± √25] / (4)  \\n'\n",
            "             '     = [7 ± 5] / 4  \\n'\n",
            "             '\\n'\n",
            "             '   So  \\n'\n",
            "             '   x₁ = (7 + 5)/4 = 12/4 = 3  \\n'\n",
            "             '   x₂ = (7 – 5)/4 = 2/4 = 1/2  \\n'\n",
            "             '\\n'\n",
            "             'Try those steps on your own or share your own equation, and '\n",
            "             'we’ll go through it together!',\n",
            "  'name': 'student',\n",
            "  'role': 'assistant'},\n",
            " {'content': 'Let’s pick one to work through together. How about this:\\n'\n",
            "             '\\n'\n",
            "             '\\u2003Solve\\u2003x² + 6x + 2 = 0\\u2003by completing the square.\\n'\n",
            "             '\\n'\n",
            "             'Step 1: Move the constant to the right side  \\n'\n",
            "             '\\u2003x² + 6x = –2\\n'\n",
            "             '\\n'\n",
            "             'Step 2: Take half of the x-coefficient (6), square it, and add '\n",
            "             'to both sides  \\n'\n",
            "             '\\u2003(6/2)² = 3² = 9  \\n'\n",
            "             '\\u2003x² + 6x + 9 = –2 + 9  \\n'\n",
            "             '\\u2003⇒ (x + 3)² = 7\\n'\n",
            "             '\\n'\n",
            "             'Step 3: Take square roots  \\n'\n",
            "             '\\u2003x + 3 = ±√7\\n'\n",
            "             '\\n'\n",
            "             'Step 4: Solve for x  \\n'\n",
            "             '\\u2003x = –3 ± √7\\n'\n",
            "             '\\n'\n",
            "             'So the two solutions are x = –3 + √7 and x = –3 – √7.\\n'\n",
            "             '\\n'\n",
            "             '—  \\n'\n",
            "             'Want to double-check by using the quadratic formula or try '\n",
            "             'factoring/formula on a different example? Or send me your own '\n",
            "             'quadratic and we’ll go step by step!',\n",
            "  'name': 'tutor',\n",
            "  'role': 'user'}]\n"
          ]
        }
      ]
    },
    {
      "cell_type": "code",
      "source": [
        "pprint.pprint(result.cost)"
      ],
      "metadata": {
        "colab": {
          "base_uri": "https://localhost:8080/"
        },
        "collapsed": true,
        "id": "wZpk0uQMfvwc",
        "outputId": "f5d14d42-8f3b-43da-85f5-8e2d02df13c3"
      },
      "execution_count": null,
      "outputs": [
        {
          "output_type": "stream",
          "name": "stdout",
          "text": [
            "{'usage_excluding_cached_inference': {'o4-mini-2025-04-16': {'completion_tokens': 4248,\n",
            "                                                             'cost': 0,\n",
            "                                                             'prompt_tokens': 2475,\n",
            "                                                             'total_tokens': 6723},\n",
            "                                      'total_cost': 0},\n",
            " 'usage_including_cached_inference': {'o4-mini-2025-04-16': {'completion_tokens': 4248,\n",
            "                                                             'cost': 0,\n",
            "                                                             'prompt_tokens': 2475,\n",
            "                                                             'total_tokens': 6723},\n",
            "                                      'total_cost': 0}}\n"
          ]
        }
      ]
    },
    {
      "cell_type": "code",
      "source": [
        "pprint.pprint(result.summary)"
      ],
      "metadata": {
        "colab": {
          "base_uri": "https://localhost:8080/"
        },
        "collapsed": true,
        "id": "s8c2XQzjiU1V",
        "outputId": "61c78e07-6d4d-447c-f943-523a17d0e7f3"
      },
      "execution_count": null,
      "outputs": [
        {
          "output_type": "stream",
          "name": "stdout",
          "text": [
            "('Let’s pick one to work through together. How about this:\\n'\n",
            " '\\n'\n",
            " '\\u2003Solve\\u2003x² + 6x + 2 = 0\\u2003by completing the square.\\n'\n",
            " '\\n'\n",
            " 'Step 1: Move the constant to the right side  \\n'\n",
            " '\\u2003x² + 6x = –2\\n'\n",
            " '\\n'\n",
            " 'Step 2: Take half of the x-coefficient (6), square it, and add to both '\n",
            " 'sides  \\n'\n",
            " '\\u2003(6/2)² = 3² = 9  \\n'\n",
            " '\\u2003x² + 6x + 9 = –2 + 9  \\n'\n",
            " '\\u2003⇒ (x + 3)² = 7\\n'\n",
            " '\\n'\n",
            " 'Step 3: Take square roots  \\n'\n",
            " '\\u2003x + 3 = ±√7\\n'\n",
            " '\\n'\n",
            " 'Step 4: Solve for x  \\n'\n",
            " '\\u2003x = –3 ± √7\\n'\n",
            " '\\n'\n",
            " 'So the two solutions are x = –3 + √7 and x = –3 – √7.\\n'\n",
            " '\\n'\n",
            " '—  \\n'\n",
            " 'Want to double-check by using the quadratic formula or try factoring/formula '\n",
            " 'on a different example? Or send me your own quadratic and we’ll go step by '\n",
            " 'step!')\n"
          ]
        }
      ]
    },
    {
      "cell_type": "markdown",
      "source": [
        "###Terminating condition - is_termination_msg"
      ],
      "metadata": {
        "id": "192VsJhuoOzJ"
      }
    },
    {
      "cell_type": "code",
      "source": [
        "student = ConversableAgent (\n",
        "    \"student\",\n",
        "    system_message = \"You are a high school student struggling with algebra. You need help understanding quadratic equations.\",\n",
        "    llm_config = llm_config,\n",
        "    human_input_mode=\"NEVER\",\n",
        "    is_termination_msg = lambda msg: \"exit\" in msg[\"content\"],\n",
        ")\n",
        "\n",
        "# Create a tutor agent\n",
        "tutor = ConversableAgent(\n",
        "    \"tutor\",\n",
        "    system_message=\"You are a patient and knowledgeable math tutor. Your goal is to help students understand algebra concepts, particularly quadratic equations.\",\n",
        "    llm_config=llm_config,\n",
        "    human_input_mode=\"NEVER\"\n",
        ")"
      ],
      "metadata": {
        "id": "diqzZeLDoSS3"
      },
      "execution_count": null,
      "outputs": []
    },
    {
      "cell_type": "code",
      "source": [
        "## start a learning session\n",
        "result = student.initiate_chat(\n",
        "   tutor,\n",
        "    message= \"I'm really struggling with quadratic equations. Can you help me understand them better and then say exit?\",\n",
        ")"
      ],
      "metadata": {
        "colab": {
          "base_uri": "https://localhost:8080/"
        },
        "collapsed": true,
        "id": "322J7AQsofr8",
        "outputId": "bdc43f74-bb7b-4648-eead-2e812017853b"
      },
      "execution_count": null,
      "outputs": [
        {
          "output_type": "stream",
          "name": "stdout",
          "text": [
            "student (to tutor):\n",
            "\n",
            "I'm really struggling with quadratic equations. Can you help me understand them better and then say exit?\n",
            "\n",
            "--------------------------------------------------------------------------------\n",
            "[autogen.oai.client: 05-12 03:59:20] {696} WARNING - Model o4-mini-2025-04-16 is not found. The cost will be 0. In your config_list, add field {\"price\" : [prompt_price_per_1k, completion_token_price_per_1k]} for customized pricing.\n"
          ]
        },
        {
          "output_type": "stream",
          "name": "stderr",
          "text": [
            "WARNING:autogen.oai.client:Model o4-mini-2025-04-16 is not found. The cost will be 0. In your config_list, add field {\"price\" : [prompt_price_per_1k, completion_token_price_per_1k]} for customized pricing.\n"
          ]
        },
        {
          "output_type": "stream",
          "name": "stdout",
          "text": [
            "tutor (to student):\n",
            "\n",
            "Here’s a step-by-step guide to understanding and solving quadratic equations:\n",
            "\n",
            "1. What is a quadratic equation?  \n",
            "   • It’s an equation of the form  \n",
            "     ax² + bx + c = 0  \n",
            "     where a, b, c are constants and a ≠ 0.  \n",
            "   • The graph of y = ax² + bx + c is a parabola.\n",
            "\n",
            "2. Key features  \n",
            "   • Roots (solutions): values of x that make ax² + bx + c = 0.  \n",
            "   • Vertex: the parabola’s highest or lowest point.  \n",
            "     – x-coordinate of vertex = –b/(2a).  \n",
            "   • Axis of symmetry: the vertical line x = –b/(2a).\n",
            "\n",
            "3. Methods of solution  \n",
            "   A. Factoring (when possible)  \n",
            "     Example: x² – 5x + 6 = 0  \n",
            "       – Look for two numbers that multiply to +6 and add to –5 (they are –2 and –3).  \n",
            "       – Rewrite: (x – 2)(x – 3) = 0  \n",
            "       – Set each factor zero: x – 2 = 0 ⇒ x = 2;  x – 3 = 0 ⇒ x = 3.  \n",
            "\n",
            "   B. Completing the square  \n",
            "     Example: x² + 4x + 3 = 0  \n",
            "       1. Move constant: x² + 4x = –3  \n",
            "       2. Half of b is 2; square it → 4. Add to both sides:  \n",
            "          x² + 4x + 4 = –3 + 4  \n",
            "          (x + 2)² = 1  \n",
            "       3. Take square root: x + 2 = ±1  \n",
            "          So x = –2 ± 1 ⇒ x = –1 or x = –3.\n",
            "\n",
            "   C. Quadratic formula (always works)  \n",
            "     For ax² + bx + c = 0,  \n",
            "       x = [–b ± √(b² – 4ac)] / (2a)  \n",
            "     Discriminant D = b² – 4ac tells you:  \n",
            "       • D > 0 → two real distinct roots  \n",
            "       • D = 0 → one real repeated root  \n",
            "       • D < 0 → two complex roots  \n",
            "\n",
            "     Example: 2x² – 3x – 2 = 0  \n",
            "       a=2, b=–3, c=–2  \n",
            "       D = (–3)² – 4·2·(–2) = 9 + 16 = 25  \n",
            "       x = [3 ± √25] / (4) = (3 ± 5)/4  \n",
            "         → x = 2 or x = –½\n",
            "\n",
            "4. Practice tips  \n",
            "   • Always simplify coefficients if possible.  \n",
            "   • Check your solutions by plugging back into the original equation.  \n",
            "   • Sketch the parabola to see root positions and vertex.  \n",
            "\n",
            "Feel free to try a few on your own, using each method. With practice you’ll gain confidence in choosing the quickest approach.  \n",
            "\n",
            "exit\n",
            "\n",
            "--------------------------------------------------------------------------------\n",
            "\n",
            ">>>>>>>> TERMINATING RUN (58507a09-9a2e-41e5-baa3-4805fc145898): Termination message condition on agent 'student' met\n"
          ]
        }
      ]
    },
    {
      "cell_type": "code",
      "source": [],
      "metadata": {
        "id": "WAV81YdGpNI5"
      },
      "execution_count": null,
      "outputs": []
    }
  ]
}